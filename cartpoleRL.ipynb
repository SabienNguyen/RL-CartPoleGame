{
  "nbformat": 4,
  "nbformat_minor": 0,
  "metadata": {
    "colab": {
      "provenance": [],
      "gpuType": "T4"
    },
    "kernelspec": {
      "name": "python3",
      "display_name": "Python 3"
    },
    "language_info": {
      "name": "python"
    },
    "accelerator": "GPU"
  },
  "cells": [
    {
      "cell_type": "code",
      "execution_count": 1,
      "metadata": {
        "colab": {
          "base_uri": "https://localhost:8080/"
        },
        "id": "oWd0akYn8EGL",
        "outputId": "c22d2a45-56e5-471c-d1b1-cef7a26be450"
      },
      "outputs": [
        {
          "output_type": "stream",
          "name": "stderr",
          "text": [
            "/usr/local/lib/python3.10/dist-packages/gym/core.py:317: DeprecationWarning: \u001b[33mWARN: Initializing wrapper in old step API which returns one bool instead of two. It is recommended to set `new_step_api=True` to use new step API. This will be the default behaviour in future.\u001b[0m\n",
            "  deprecation(\n",
            "/usr/local/lib/python3.10/dist-packages/gym/wrappers/step_api_compatibility.py:39: DeprecationWarning: \u001b[33mWARN: Initializing environment in old step API which returns one bool instead of two. It is recommended to set `new_step_api=True` to use new step API. This will be the default behaviour in future.\u001b[0m\n",
            "  deprecation(\n"
          ]
        }
      ],
      "source": [
        "import gym\n",
        "env = gym.make('CartPole-v1')"
      ]
    },
    {
      "cell_type": "code",
      "source": [
        "env.action_space"
      ],
      "metadata": {
        "colab": {
          "base_uri": "https://localhost:8080/"
        },
        "id": "7CyXnr3k8XCP",
        "outputId": "81aa9eba-db2b-4a44-ae59-a977c39ef1d4"
      },
      "execution_count": 2,
      "outputs": [
        {
          "output_type": "stream",
          "name": "stderr",
          "text": [
            "/usr/local/lib/python3.10/dist-packages/ipykernel/ipkernel.py:283: DeprecationWarning: `should_run_async` will not call `transform_cell` automatically in the future. Please pass the result to `transformed_cell` argument and any exception that happen during thetransform in `preprocessing_exc_tuple` in IPython 7.17 and above.\n",
            "  and should_run_async(code)\n"
          ]
        },
        {
          "output_type": "execute_result",
          "data": {
            "text/plain": [
              "Discrete(2)"
            ]
          },
          "metadata": {},
          "execution_count": 2
        }
      ]
    },
    {
      "cell_type": "code",
      "source": [
        "env.reset()"
      ],
      "metadata": {
        "colab": {
          "base_uri": "https://localhost:8080/"
        },
        "id": "NraH1Sag8dxe",
        "outputId": "03750762-5ba8-4ef5-f3d3-15ebe2f1e3d6"
      },
      "execution_count": 3,
      "outputs": [
        {
          "output_type": "execute_result",
          "data": {
            "text/plain": [
              "array([ 0.04089038, -0.0216548 , -0.04991237, -0.01148612], dtype=float32)"
            ]
          },
          "metadata": {},
          "execution_count": 3
        }
      ]
    },
    {
      "cell_type": "code",
      "source": [
        "!apt-get install -y xvfb x11-utils\n",
        "!pip install pyvirtualdisplay==0.2.*"
      ],
      "metadata": {
        "colab": {
          "base_uri": "https://localhost:8080/"
        },
        "id": "sT34__A-9Pa5",
        "outputId": "3b626bec-c9f0-4849-dba2-aa5badbf3420"
      },
      "execution_count": 4,
      "outputs": [
        {
          "output_type": "stream",
          "name": "stdout",
          "text": [
            "Reading package lists... Done\n",
            "Building dependency tree... Done\n",
            "Reading state information... Done\n",
            "The following additional packages will be installed:\n",
            "  libfontenc1 libxfont2 libxkbfile1 libxtst6 libxxf86dga1 x11-xkb-utils xfonts-base\n",
            "  xfonts-encodings xfonts-utils xserver-common\n",
            "Suggested packages:\n",
            "  mesa-utils\n",
            "The following NEW packages will be installed:\n",
            "  libfontenc1 libxfont2 libxkbfile1 libxtst6 libxxf86dga1 x11-utils x11-xkb-utils xfonts-base\n",
            "  xfonts-encodings xfonts-utils xserver-common xvfb\n",
            "0 upgraded, 12 newly installed, 0 to remove and 8 not upgraded.\n",
            "Need to get 8,045 kB of archives.\n",
            "After this operation, 12.8 MB of additional disk space will be used.\n",
            "Get:1 http://archive.ubuntu.com/ubuntu jammy/main amd64 libfontenc1 amd64 1:1.1.4-1build3 [14.7 kB]\n",
            "Get:2 http://archive.ubuntu.com/ubuntu jammy/main amd64 libxfont2 amd64 1:2.0.5-1build1 [94.5 kB]\n",
            "Get:3 http://archive.ubuntu.com/ubuntu jammy/main amd64 libxkbfile1 amd64 1:1.1.0-1build3 [71.8 kB]\n",
            "Get:4 http://archive.ubuntu.com/ubuntu jammy/main amd64 libxtst6 amd64 2:1.2.3-1build4 [13.4 kB]\n",
            "Get:5 http://archive.ubuntu.com/ubuntu jammy/main amd64 libxxf86dga1 amd64 2:1.1.5-0ubuntu3 [12.6 kB]\n",
            "Get:6 http://archive.ubuntu.com/ubuntu jammy/main amd64 x11-utils amd64 7.7+5build2 [206 kB]\n",
            "Get:7 http://archive.ubuntu.com/ubuntu jammy/main amd64 x11-xkb-utils amd64 7.7+5build4 [172 kB]\n",
            "Get:8 http://archive.ubuntu.com/ubuntu jammy/main amd64 xfonts-encodings all 1:1.0.5-0ubuntu2 [578 kB]\n",
            "Get:9 http://archive.ubuntu.com/ubuntu jammy/main amd64 xfonts-utils amd64 1:7.7+6build2 [94.6 kB]\n",
            "Get:10 http://archive.ubuntu.com/ubuntu jammy/main amd64 xfonts-base all 1:1.0.5 [5,896 kB]\n",
            "Get:11 http://archive.ubuntu.com/ubuntu jammy-updates/main amd64 xserver-common all 2:21.1.4-2ubuntu1.7~22.04.2 [28.1 kB]\n",
            "Get:12 http://archive.ubuntu.com/ubuntu jammy-updates/universe amd64 xvfb amd64 2:21.1.4-2ubuntu1.7~22.04.2 [864 kB]\n",
            "Fetched 8,045 kB in 1s (7,013 kB/s)\n",
            "Selecting previously unselected package libfontenc1:amd64.\n",
            "(Reading database ... 120882 files and directories currently installed.)\n",
            "Preparing to unpack .../00-libfontenc1_1%3a1.1.4-1build3_amd64.deb ...\n",
            "Unpacking libfontenc1:amd64 (1:1.1.4-1build3) ...\n",
            "Selecting previously unselected package libxfont2:amd64.\n",
            "Preparing to unpack .../01-libxfont2_1%3a2.0.5-1build1_amd64.deb ...\n",
            "Unpacking libxfont2:amd64 (1:2.0.5-1build1) ...\n",
            "Selecting previously unselected package libxkbfile1:amd64.\n",
            "Preparing to unpack .../02-libxkbfile1_1%3a1.1.0-1build3_amd64.deb ...\n",
            "Unpacking libxkbfile1:amd64 (1:1.1.0-1build3) ...\n",
            "Selecting previously unselected package libxtst6:amd64.\n",
            "Preparing to unpack .../03-libxtst6_2%3a1.2.3-1build4_amd64.deb ...\n",
            "Unpacking libxtst6:amd64 (2:1.2.3-1build4) ...\n",
            "Selecting previously unselected package libxxf86dga1:amd64.\n",
            "Preparing to unpack .../04-libxxf86dga1_2%3a1.1.5-0ubuntu3_amd64.deb ...\n",
            "Unpacking libxxf86dga1:amd64 (2:1.1.5-0ubuntu3) ...\n",
            "Selecting previously unselected package x11-utils.\n",
            "Preparing to unpack .../05-x11-utils_7.7+5build2_amd64.deb ...\n",
            "Unpacking x11-utils (7.7+5build2) ...\n",
            "Selecting previously unselected package x11-xkb-utils.\n",
            "Preparing to unpack .../06-x11-xkb-utils_7.7+5build4_amd64.deb ...\n",
            "Unpacking x11-xkb-utils (7.7+5build4) ...\n",
            "Selecting previously unselected package xfonts-encodings.\n",
            "Preparing to unpack .../07-xfonts-encodings_1%3a1.0.5-0ubuntu2_all.deb ...\n",
            "Unpacking xfonts-encodings (1:1.0.5-0ubuntu2) ...\n",
            "Selecting previously unselected package xfonts-utils.\n",
            "Preparing to unpack .../08-xfonts-utils_1%3a7.7+6build2_amd64.deb ...\n",
            "Unpacking xfonts-utils (1:7.7+6build2) ...\n",
            "Selecting previously unselected package xfonts-base.\n",
            "Preparing to unpack .../09-xfonts-base_1%3a1.0.5_all.deb ...\n",
            "Unpacking xfonts-base (1:1.0.5) ...\n",
            "Selecting previously unselected package xserver-common.\n",
            "Preparing to unpack .../10-xserver-common_2%3a21.1.4-2ubuntu1.7~22.04.2_all.deb ...\n",
            "Unpacking xserver-common (2:21.1.4-2ubuntu1.7~22.04.2) ...\n",
            "Selecting previously unselected package xvfb.\n",
            "Preparing to unpack .../11-xvfb_2%3a21.1.4-2ubuntu1.7~22.04.2_amd64.deb ...\n",
            "Unpacking xvfb (2:21.1.4-2ubuntu1.7~22.04.2) ...\n",
            "Setting up libxtst6:amd64 (2:1.2.3-1build4) ...\n",
            "Setting up libxxf86dga1:amd64 (2:1.1.5-0ubuntu3) ...\n",
            "Setting up libfontenc1:amd64 (1:1.1.4-1build3) ...\n",
            "Setting up xfonts-encodings (1:1.0.5-0ubuntu2) ...\n",
            "Setting up libxkbfile1:amd64 (1:1.1.0-1build3) ...\n",
            "Setting up libxfont2:amd64 (1:2.0.5-1build1) ...\n",
            "Setting up x11-xkb-utils (7.7+5build4) ...\n",
            "Setting up xfonts-utils (1:7.7+6build2) ...\n",
            "Setting up xfonts-base (1:1.0.5) ...\n",
            "Setting up x11-utils (7.7+5build2) ...\n",
            "Setting up xserver-common (2:21.1.4-2ubuntu1.7~22.04.2) ...\n",
            "Setting up xvfb (2:21.1.4-2ubuntu1.7~22.04.2) ...\n",
            "Processing triggers for man-db (2.10.2-1) ...\n",
            "Processing triggers for fontconfig (2.13.1-4.2ubuntu5) ...\n",
            "Processing triggers for libc-bin (2.35-0ubuntu3.4) ...\n",
            "/sbin/ldconfig.real: /usr/local/lib/libtbbbind.so.3 is not a symbolic link\n",
            "\n",
            "/sbin/ldconfig.real: /usr/local/lib/libtbbmalloc_proxy.so.2 is not a symbolic link\n",
            "\n",
            "/sbin/ldconfig.real: /usr/local/lib/libtbb.so.12 is not a symbolic link\n",
            "\n",
            "/sbin/ldconfig.real: /usr/local/lib/libtbbmalloc.so.2 is not a symbolic link\n",
            "\n",
            "/sbin/ldconfig.real: /usr/local/lib/libtbbbind_2_5.so.3 is not a symbolic link\n",
            "\n",
            "/sbin/ldconfig.real: /usr/local/lib/libtbbbind_2_0.so.3 is not a symbolic link\n",
            "\n",
            "Collecting pyvirtualdisplay==0.2.*\n",
            "  Downloading PyVirtualDisplay-0.2.5-py2.py3-none-any.whl (13 kB)\n",
            "Collecting EasyProcess (from pyvirtualdisplay==0.2.*)\n",
            "  Downloading EasyProcess-1.1-py3-none-any.whl (8.7 kB)\n",
            "Installing collected packages: EasyProcess, pyvirtualdisplay\n",
            "Successfully installed EasyProcess-1.1 pyvirtualdisplay-0.2.5\n"
          ]
        }
      ]
    },
    {
      "cell_type": "code",
      "source": [
        "from pyvirtualdisplay import Display\n",
        "display = Display(visible=False, size=(1400, 900))\n",
        "_ = display.start()"
      ],
      "metadata": {
        "id": "yu7-RbtW9d8u"
      },
      "execution_count": 5,
      "outputs": []
    },
    {
      "cell_type": "code",
      "source": [
        "from gym.wrappers.monitoring.video_recorder import VideoRecorder\n",
        "before_training = \"before_training.mp4\"\n",
        "video = VideoRecorder(env, before_training)\n",
        "env.reset()\n",
        "\n",
        "for i in range(200):\n",
        "  env.render()\n",
        "  video.capture_frame()\n",
        "  # env.action_space.sample()\n",
        "  observation, reward, done, info = env.step(env.action_space.sample())\n",
        "\n",
        "  # print(\"step\", i, observation, reward, done, info)\n",
        "video.close()\n",
        "env.close()"
      ],
      "metadata": {
        "colab": {
          "base_uri": "https://localhost:8080/"
        },
        "id": "vSCaJP7q8h_3",
        "outputId": "4a1ffcc3-cd87-44a3-af9d-5dd7b25c2ad5"
      },
      "execution_count": 6,
      "outputs": [
        {
          "output_type": "stream",
          "name": "stderr",
          "text": [
            "/usr/local/lib/python3.10/dist-packages/ipykernel/ipkernel.py:283: DeprecationWarning: `should_run_async` will not call `transform_cell` automatically in the future. Please pass the result to `transformed_cell` argument and any exception that happen during thetransform in `preprocessing_exc_tuple` in IPython 7.17 and above.\n",
            "  and should_run_async(code)\n",
            "/usr/local/lib/python3.10/dist-packages/gym/wrappers/monitoring/video_recorder.py:78: DeprecationWarning: \u001b[33mWARN: Recording ability for environment CartPole-v1 initialized with `render_mode=None` is marked as deprecated and will be removed in the future.\u001b[0m\n",
            "  logger.deprecation(\n",
            "/usr/local/lib/python3.10/dist-packages/gym/wrappers/monitoring/video_recorder.py:101: DeprecationWarning: \u001b[33mWARN: <class 'gym.wrappers.monitoring.video_recorder.VideoRecorder'> is marked as deprecated and will be removed in the future.\u001b[0m\n",
            "  logger.deprecation(\n",
            "/usr/local/lib/python3.10/dist-packages/gym/core.py:49: DeprecationWarning: \u001b[33mWARN: You are calling render method, but you didn't specified the argument render_mode at environment initialization. To maintain backward compatibility, the environment will render in human mode.\n",
            "If you want to render in human mode, initialize the environment in this way: gym.make('EnvName', render_mode='human') and don't call the render method.\n",
            "See here for more information: https://www.gymlibrary.ml/content/api/\u001b[0m\n",
            "  deprecation(\n",
            "/usr/local/lib/python3.10/dist-packages/gym/core.py:43: DeprecationWarning: \u001b[33mWARN: The argument mode in render method is deprecated; use render_mode during environment initialization instead.\n",
            "See here for more information: https://www.gymlibrary.ml/content/api/\u001b[0m\n",
            "  deprecation(\n",
            "/usr/local/lib/python3.10/dist-packages/gym/core.py:49: DeprecationWarning: \u001b[33mWARN: You are calling render method, but you didn't specified the argument render_mode at environment initialization. To maintain backward compatibility, the environment will render in human mode.\n",
            "If you want to render in human mode, initialize the environment in this way: gym.make('EnvName', render_mode='human') and don't call the render method.\n",
            "See here for more information: https://www.gymlibrary.ml/content/api/\u001b[0m\n",
            "  deprecation(\n",
            "/usr/local/lib/python3.10/dist-packages/gym/core.py:43: DeprecationWarning: \u001b[33mWARN: The argument mode in render method is deprecated; use render_mode during environment initialization instead.\n",
            "See here for more information: https://www.gymlibrary.ml/content/api/\u001b[0m\n",
            "  deprecation(\n",
            "/usr/local/lib/python3.10/dist-packages/gym/envs/classic_control/cartpole.py:179: UserWarning: \u001b[33mWARN: You are calling 'step()' even though this environment has already returned terminated = True. You should always call 'reset()' once you receive 'terminated = True' -- any further steps are undefined behavior.\u001b[0m\n",
            "  logger.warn(\n"
          ]
        }
      ]
    },
    {
      "cell_type": "code",
      "source": [
        "from base64 import b64encode\n",
        "def render_mp4(videopath: str) -> str:\n",
        "  mp4 = open(videopath, 'rb').read()\n",
        "  base64_encoded_mp4 = b64encode(mp4).decode()\n",
        "  return f'<video width=400 controls><source src=\"data:video/mp4;' \\\n",
        "  f'base64,{base64_encoded_mp4}\" type=\"video/mp4\"></video>'"
      ],
      "metadata": {
        "colab": {
          "base_uri": "https://localhost:8080/"
        },
        "id": "2ZCVCWdN-lUG",
        "outputId": "84b4de3c-67b4-416d-8d14-27f922e87229"
      },
      "execution_count": 7,
      "outputs": [
        {
          "output_type": "stream",
          "name": "stderr",
          "text": [
            "/usr/local/lib/python3.10/dist-packages/ipykernel/ipkernel.py:283: DeprecationWarning: `should_run_async` will not call `transform_cell` automatically in the future. Please pass the result to `transformed_cell` argument and any exception that happen during thetransform in `preprocessing_exc_tuple` in IPython 7.17 and above.\n",
            "  and should_run_async(code)\n"
          ]
        }
      ]
    },
    {
      "cell_type": "code",
      "source": [
        "from IPython.display import HTML\n",
        "html = render_mp4(before_training)\n",
        "HTML(html)"
      ],
      "metadata": {
        "colab": {
          "base_uri": "https://localhost:8080/",
          "height": 288
        },
        "id": "cf5EFqLtAVWk",
        "outputId": "42493bc8-6be4-4fd2-eae0-d7b1d928af1b"
      },
      "execution_count": 8,
      "outputs": [
        {
          "output_type": "execute_result",
          "data": {
            "text/plain": [
              "<IPython.core.display.HTML object>"
            ],
            "text/html": [
              "<video width=400 controls><source src=\"data:video/mp4;base64,AAAAIGZ0eXBpc29tAAACAGlzb21pc28yYXZjMW1wNDEAAAAIZnJlZQAAn4ttZGF0AAACrgYF//+q3EXpvebZSLeWLNgg2SPu73gyNjQgLSBjb3JlIDE2MyByMzA2MCA1ZGI2YWE2IC0gSC4yNjQvTVBFRy00IEFWQyBjb2RlYyAtIENvcHlsZWZ0IDIwMDMtMjAyMSAtIGh0dHA6Ly93d3cudmlkZW9sYW4ub3JnL3gyNjQuaHRtbCAtIG9wdGlvbnM6IGNhYmFjPTEgcmVmPTMgZGVibG9jaz0xOjA6MCBhbmFseXNlPTB4MzoweDExMyBtZT1oZXggc3VibWU9NyBwc3k9MSBwc3lfcmQ9MS4wMDowLjAwIG1peGVkX3JlZj0xIG1lX3JhbmdlPTE2IGNocm9tYV9tZT0xIHRyZWxsaXM9MSA4eDhkY3Q9MSBjcW09MCBkZWFkem9uZT0yMSwxMSBmYXN0X3Bza2lwPTEgY2hyb21hX3FwX29mZnNldD0tMiB0aHJlYWRzPTMgbG9va2FoZWFkX3RocmVhZHM9MSBzbGljZWRfdGhyZWFkcz0wIG5yPTAgZGVjaW1hdGU9MSBpbnRlcmxhY2VkPTAgYmx1cmF5X2NvbXBhdD0wIGNvbnN0cmFpbmVkX2ludHJhPTAgYmZyYW1lcz0zIGJfcHlyYW1pZD0yIGJfYWRhcHQ9MSBiX2JpYXM9MCBkaXJlY3Q9MSB3ZWlnaHRiPTEgb3Blbl9nb3A9MCB3ZWlnaHRwPTIga2V5aW50PTI1MCBrZXlpbnRfbWluPTI1IHNjZW5lY3V0PTQwIGludHJhX3JlZnJlc2g9MCByY19sb29rYWhlYWQ9NDAgcmM9Y3JmIG1idHJlZT0xIGNyZj0yMy4wIHFjb21wPTAuNjAgcXBtaW49MCBxcG1heD02OSBxcHN0ZXA9NCBpcF9yYXRpbz0xLjQwIGFxPTE6MS4wMACAAAAB8mWIhAAz//727L4FNf2f0JcRLMXaSnA+KqSAgHc0wAAAAwAAAwAAFgn0I7DkqgN3QAAAHGAFBCwCPCVC2EhH2OkN/weIfwAHQricA0myxmap9F19qELvLYQcA4HFEOHxpdTlGsfbvtKa/QQ5DkowADv+9vxuTFLIxM+t7k4ru5VvwQ6BqcOWjBnoWlCwCHi9+5oHXtmlnOssXWEM6UfceZTmaQBXIBRWfDUzsVc08WZxrFxXxnhviGfoctl3NfNqDjW7Xabjs3QnxkOLWIeyMV4yBIGM22cgiKd0FCTB5bxD1zpHHHC2sqq3oS5h3XJs+0LuDN+jVDoRjvvSMGkFL6Ji6ED0TMxOvrn4fieFhCoKSAOVIDr0xGkMNsMKoJYoSNs4CCneOW86V1Jrv5Z6L4CYrgBq+5h5ugxGpATZHfrfbLCO1FAQf3HoCArmmxpOzktvQ/KCxXq4jBi8wGWI28hqsAnIN/kcFivM8nU1a6b3YZRslSUdE/bXNA/IsEM81LgBy71HuNYgGWS3gu15C3ZgNOyMXRT13qlQZjlxjb/V4bBU/+HC5RFYOQii4TY2bcAGQe5Khr3Seax9CQ8tXJSr+o5wQ/n/0MIULHbwqyK4P7zlx0DjOjV6RQxIAAPIAAFauAAAAwAAAwAAAwAAAwAHbQAAAFhBmiRsQz/+nhAAAEVLCvxuQBvOgeYcvv6BKfe4jF+FX/B0yd4QL6hZN7TeYoHy2Ln4gziNJOt6YZZuQ5GHfjM7n1OVVAWIyzr7pNts2cRwM9q3Axz27+ygAAAAPkGeQniEfwAAFr5LsEJ0saK9FusRd0rYXIMLPfdh9RXQls5Bd48DAFBcmkHHM2DqKqpHwJwEzWI/6bxq0LKBAAAAHQGeYXRH/wAABR/MpcAlSKc45GFXmTu1S9hRunf4AAAAGwGeY2pH/wAAI78EJxLO5+Gk3RKztPdggyiD/wAAAJtBmmhJqEFomUwIX//+jLAAAEYxKFz3t+RvhKIR2hvcTcvdtd+SZuJew8JZtnOt3wRTLO+hSH2UaoJd+Y0Uj+TAPC1vhQkUmZjC3fnj8Pd78rHXqWri+cwDEqnMc4wc0uaB1TSQENTCxsoHvZX8I6I6obQoJ/BwXHAw3qEbBZ+4K56LuvVsE1NBuBq5vf3KnsTv743O5iV0ighh7QAAADFBnoZFESwj/wAAFrw9Ll1Mk6FK3lukbH+44D6/DsmdwYUiV1CscdrL+GxFlEMSDjnxAAAAKgGepXRH/wAADX4Q540Z3bekpgmPJTOo3VuGJ8mcBWSnX4IiQr/57BuX2wAAABsBnqdqR/8AACO/BCcSx/0SImVlbvFowBDkG1AAAAC6QZqsSahBbJlMCF///oywAABGJDmKlnOPWkPcGsAEjNpxG+H8hP7mJbFblABd0AkwJYqsdRp+85+/pDGjlyJL5m5Bt0emW67f/lCTtkWR2hqAg1aWsRWFyiyOeMLynmACD2CUhs2ximUPJR3rGYncw9gnpGj/9E81QcMnZyvEvfV4KKXV+LaLwJoBRdlgSX+4I1bA1DeTSXII6aTjXNL00hwb3ipR/7051eSDsYWyP7RgTesfOJ7bEwX8AAAAP0GeykUVLCP/AAAWu4p+TZZ4r5vaCje4fSlOO8ZPJAjFlixngHE0g9ifmFUS9rjw6OiPRYYIBGSw+A7J3ZGDQQAAADIBnul0R/8AACPDF3rcLDiABqUh0K9i28sJxmtfbFYccHZSHR6Y2W2fPZXg0gYhCqTICAAAAEgBnutqR/8AACOuYEMkczPuEXhu9yYsx20W8Gxo4vL+4X8swDLLWVSOuAUqp0/99O/xWtclSBjAWrGyoAEyaBGO6vGS8HNUkBAAAAC4QZruSahBbJlMFEwv//6MsAAARgICTXV+/mfDAXVZbHW6UsHi+KrR4AJao44q0PizfirZO8t2c5GpGcIMU5opoVNRyCJKt1mFySsofK9+TBMdGNXXAMWBv55h9YDi3PUWDMQo6LRDgi/ZUbcTnATHCPjO+0xagIAZPV1WxYw3K+VeLAo8cb4/s2SPrzqnpLDn1HI7qY69D/RCZ1fnZBLh5t2h32vXt/5DUjSO6G55gywWhrSk65M8PwAAAEUBnw1qR/8AACOughtw7hg03ajNYCzYO5cRokCcxAZcx4LFUJMu4SRPIQghT9Bw4ZayyFgATHoC77aLaEh3EWIvmhTwtJMAAAEpQZsSSeEKUmUwIX/+jLAAAEZ43+UIYQABYJ/WUoPbQUNVd9ra36Ja8YN5VkQItBqtvkC/xH8dRGIAzRmXdkrr93paFA9a1w39wxmxDhV4CPZksPMLKb76K/KPbbe91eD21b5KQBpXXDTmU+3zZdGY4bMTZkHwncOcxOy0ilMRyJhBf8AlVZ0/qkMNgQNWmPwl7QLG5OdM8VkwpLRlkZs/vnLRx4/PMKPFVM/IDkqIRYUFEz48WDAODBuuq7sFn1w39PzDNfcRuImtitzzwCfiQwKb9qCBSqbNDHyoTlYTDg7jvo7YJ5Ewet7604e5AbfnIhNh2TEFy27YAC2NFkY020PejDkW72FlM84pMuJETe2i/qqZv90G6VILSMbiovNgLdoXv0JxKSLxAAAAc0GfMEU0TCP/AAAXWJ+A/zSZutwSahGGXWPgOdvlIzufgOxlEFAkpGpiYy/4fyVe5tsIGp6lyoSRCypt+utnNICagqrlhlASZ4IcPjpr6Ca7t/HiHfs/tiAB8/y/q3nDWsriXEEAUrSt3JeS0uueW+9dsLAAAABgAZ9PdEf/AAAkwXKEAbYb3plGcww614IgE0geZg+KBKFu/C1Ii/D6VE+fs5kfn27Wht1oXcUwXMLj9CkIcZ+2Kl8kqDC3ncdknb0udpY3PsGd8Zrw1sGU0jT5IMEB2/YWAAAASAGfUWpH/wAAJMe/Hd05e7Z7hAhruWhutupwVbWKF8wdhi6yu0vfMCtqKz/ZwagcN8bQWo6sUzqplDJabrN9mrEZXV0Dq+6dwQAAAL9Bm1VJqEFomUwIX//+jLAAAEZ97MayyHTEe7g4dQzrR/Z+XBeBXdjh4cNICYb63y4Jp/f4HT1jH9Gw5vp7upGyhNe+UKI13zQBDx6kgqQrjxZ/jUbICAfKZ2CuT8PqjU00GunR79stw9nroqqOwkzH/fINjkzqWoKLev+M8RxpysebeKxOhdnkKHUcBZH8aADKWFW+KLmCenuWnehu6Pir6qWLkwpHAeFDl3UKW5P3eFjts5kx9PEmWjUHq7mkgAAAAFJBn3NFESwj/wAAFrVfQHFioQ+quKCVayuNOydTVAztSsIr3y/6uZlcuwszZBW3EQLmQvDwMGimOs6XuoSerp7tmU/cpQQ0AWURhqdbwPbXi63oAAAAUQGflGpH/wAADc5QnYZgTVAvgALIy0sGBAI8IROtDnb9CuUq819qTrTLqy/iBpjLs5Qbxl9b1U5caB7mQcSLouLCIcKh67MELobS482/LL8bgwAAAT9Bm5lJqEFsmUwIV//+OEAAAGvYoEA1fOBZWqCsO7k/rM9lWzUI3cwjgLk5FpsP9uQF9RyMPwDdsoLsfSm7BEz51SFP/w5yo1r9oOzqUxTrM0HLetCtPKM+W8rrqf5bZ/hKWTFy4mnbFzRxFnDBJUvIVqTSNmjAjfIHR01yvSmBiv+AVcUbstY/El1Y46RCgbwxI6ll4qMdmnYkDhhTIweLyObsa+QPuj+BDVsIE6peVsNG8Nzpb2vUvTK0raPdts+zMuQDVas9lHEr7+hRVgKyh9d6dZ7p2vlkfJ4cobEHd0ne8tWZtQd+o7flKWnAgyqyUBg2zlbBHicR4myGdccqi0NsC80zVTmJ9vPjbS1ELOE0RkpDmMu36mGP8t/TJUS5i/CrR/cDz1X3U/BH+JMmCjXrZvbcJPKlBRGR0xK6AAAAikGft0UVLCP/AAAI7wipSxGiQ3LIJBGWuX8pAYhOTjaDKZrSFhw9gnQnn05+2lbP0lisz4/CXY8qbIbdwmICfRvzos+s2FJAoCQnpY+WvsQFAvEymeRi0KAYwJegyqmTsdiy1O51h27PPjTC4+Z035ffrSL+9TXce8ABDkJjjx0H7rVYYomuLFtNwQAAAF4Bn9Z0R/8AAA3Is/GGKHnrG+9scvCRr9iELFJsvGeyPKLCMDhqyj9WocFSjJxPAfq5ntXeaMjWB1utWs3cnX7zoMuacDN2ugwJB3RiVhxig9AB94df0RMg3gQlGaXtAAAATAGf2GpH/wAADiQKyebNwrG4Z74XfSwn/y/dEXN2P33RCVM1Nf9kBoa/OmRpohXk3lwnri26Yo8Csz1RaIApLkj9Hy/SV4phQodhwrMAAAC7QZvaSahBbJlMCF///oywAAAbyqxQzySMBQTSjwlJq+DrsK/g2G3yJaJV+41qEIh4nPbsvW5WR5hx1ZsuNqY/JtRZsYM6a2QoHz/dzRwqaqhm0/MMntL2EYxQvpb8FvOvmnSIjhh1cWGsU879SachFiR1equogaC0VTqOTeyVDWZM5gE6IEhHjCtxN8zpuNwUXloNuP5Mp73IfDUQNvdJjBgcr/4WVpCGOWG6NGM2kLisRGjCiBYbTVbg8QAAAR1Bm/xJ4QpSZTBRUsL//oywAAAbT3vAOsZivGQQAP4rJuktna6LGXLrTPBWOjYvAluHdGaE4kwloj/gEewuqKMEqYZT75Y8c0b3hgU83Heuo0zyghBj+cb0LOhy817/x5lCWj8C5DDHbbnTTllf/2bsCKY4awK7Jd0wpe5uz7HZ63AyRQUiF1ADRBIZWAlSjEggJKppAs8vzzkYVMAgW4gEtDBdhf4XQ5gmCi7C6Nn8kgTmi9qL04JCacVYykRmBT5gFYt5j8gMOD2mMIYWxNEBvBtxzEj0pIrIIffpP6I4PkvWbz2iyTuytdw88OazYOuMdDv4sJFmO7YLUgSx1PP+771ESXQrqWZjCL5UkHp5R+1BrwiJlGO0A3R/uzwAAABsAZ4bakf/AAANz9uL0ENdkcc+JQaAGXWRMukLcskMoK7do+dIUY1YwbAAFsOaArHRG5tmuANTNPZ7d6Xx50ez6OVT4colWm990uGgm7BfQ1QeOQAJmLbq3HX/HhvRErwzL1tdhFBjtlomkHZPAAABHUGaHknhDomUwUTC//6MsAAACqfHVNvWxsA1L6xpXwaADrMo16M117EeUmUxpTxSKzx/A454Pnn7f3AXN2I8O1knQT8vmxF8758EvroKMd3+0nwBQGVFMlsazJg8otC751CI4kYPpO3a+OmvvvRyG4pd4WylGDcT7mTKzXQMPoezUBwPp6s4QsRsb9jQ7qzouRbb4cCrrcyAXXGPDK/hOEtEita1uaSeqYX87t1qumR2MD9ncxxPGjRjH/CiqPmi6DKuIDnP598rMGU0CeUuQdHii97kvrv5bODTHaDxuU7AS/QdKW6VOhNOMObYlbbtlBk/P8g90ZyCYhbqR0sGqi0ATZacrir5///at4Ja4wmT4POWDX+uUCvffLybfQAAAG4Bnj1qR/8AAAVlMBWnwzPhTygBJa8ftd19Mxz4EvArlGj1bHifDzauSWShWiFY6lHtOEdO8QdTZf9eOGc3GAAiVP9rKSWrRPYSZ3QyN9d2wm1xB9GevqTXDCiG473jdPDYD0/AI0kY/By5qIYekAAAAYRBmiJJ4Q8mUwIX//6MsAAAAwPr63bnxv9SB9oetu+ZwA6R63w8AONvVV+iwI0QtuxIBAK3dcynAJUgyGGzGjhRGEi2NAvKdhsWWU2dbxP2sHKFkqw+f/3/tfyQdF8kFh57dSX7kSq8vPvbAExtRqoO8A7VPJ0eWBs0A6l6OEWclN6x0vLa3wL0rMLcjf8xQdQLDNVn5zP/QCCIkvKra52/FUqXffEKt704MDS4iisuYdWPtA8/hokmWvM55MtlJ2yTtatcEf4X2V1N7UmMTAJLWW1p8RD23Oy5RLWMg+K1/07xhZdxjv59u2LJQlM4XTUg21pNujOxgPJBLTnoVjwRjGNtSKjnCVYszMK/hitzjxhvi+8wPOqsZunALoi2sX4/J4MRzZrvHD76J/XmcBqPKThTuZjWSlvM9DgCPuej786as2Q1YJz5strRUbAvPAtzsm17QUIvnzuZdthfuGJ/PyIiDJmArrz0+xjXG1xtjptJOvoZ0HMSMWE09daXUMLYoM4wAAAA30GeQEURPCP/AAADAVDqKi4PkYAOkWwNz1leohMuPLsQLsg4epto9b/IC0wE1csJOIXJFyasg5c2mCRUIhqRawBV/yqfh9wdUCwlqTnszjeqzpOnSEhBNfHSFCPulMy94zNqRhGxbAYVzTUuARYfcG0ODghpZterVwvftGR5XsXR74MqSAt8RdEt9a3uK3mm/ItTciGViztKy6//Wjc4lIe3ikPtNrva6nPmQK5AlPUELBBhHJBLkaQj5SUxTRjvDX5llPusGo2Fv3qw6uKtAfHQuAYbpu/U0Cjhld2y2PkAAABtAZ5/dEf/AAADAgrBQ7WtGXEKUAm1r4CwpwzU59LfuoB8JpOUh5tIj/z3/ykNIeKVoSu2XTEEXNB88ODPz7+guH4wIAEuKbQEJxmk4o6D/wp302fxa3huO2UtwBIooiOFTzGH3FRNNJ/zVQrBBAAAAGQBnmFqR/8AAAMCC/Gg9nkfuti9jnOHm0cWk6AFhUjH9JGiu3FlDCnhNYXbPoBY5s24o93A/ssEcB9YuRPggJX8iMf3sgM9WYHnQt1T1JwpbjCrTuVnj6GMhIduEc9cV9ktBIYBAAAA7kGaZUmoQWiZTAhf//6MsAAAAwCU/E5Oc+Be8qu9scLi6M5KWAsiJjfIzLYHHR/MHM+CJrdh7JR2xQScTtOxnY4H+sBOi0krm0cjj/lPEZKnCacOHLdrUGJA3vQ2rTEcYo1QnvcxXFb8ucOX6ooaR7LoH+BmdsL4Y2N0SHZUPacbU+KbgGbYa5xwcgd26a+xbr1FX2KSlvl5RLLFFq+X+y/SdzWin27BVxU8meTTEcMe2RApCGn25RV0YoPQ/TaOzWfFycyEKB8nEzj8EQrj7jKA3a+ORfdPxoyEOlBSPRdFCPQ9Al41ouJY32yXKakAAACdQZ6DRREsI/8AAAMBUQn9OWGD/v1FF8K017NBYLu8Q+EwAt3k1fEDWwWBZ3p3Xd2ZWDPSr2pqUyk1JZbzpX0NgouaeYiBtbnp6lAvuil+wtQQdtIB9Q3lfqMj1LEJ1nbICiGtii/EOdzeNTvle06jMRF22kiMhuxmoeF4Z3L9GkW6jVrdMa5P7E0OQ9OD2LKrS/8q7TGOE8TNIiUFgQAAAJsBnqRqR/8AAAMCC/HFVfDy4r2uQJ8s4ACuPXgox0GR/xJHpq4A8HHwcir63h+m6W76V6oftjBwWd01kK6HW4veCmQo4d7/I/DqPHMIfCLdnxaWXbcgugHzJDQBRo7Nwbd2NyTOe9wf8/I3Ri9C5pGY/Ok7Ftnf5j0j6WSQiHnUbi0ipVspu/56jO3zC8izQRsTS18RXdBeP2fY4QAAAbpBmqhJqEFsmUwIV//+OEAAAAMAQ2RxdhwBADc4WePbP2l81ZhTfcGDubIg8fx7f/pfMPo3IUtGyb+zYrxL0m59wgg7qlGaVRRw91uFosUqf7CRM5XmN7xfRrLv5v0HvFqjZ2zeSXsJxXKVQZMEevvtQrnFNv255hLr8FtPRHA9FQ18d6f1npr/gASBJF55YvDudj/4pYKV9zOK7MF8uG4ohMSKUkUT4jfoimG92gZFYuk9NadPHWcBYm4VoaoJAoQZm5ToPeGmGhsy23K52x0C8CcoM2TimvxT+eX/gSsxs/Q9hGYBlHKVS/3M8CMmltfeFyTWLIxJvsIdX09BIpSHtPuAKBSsXWXMtiMACLRG+9bvAWEog/j1hdXpHwBIbzQQuU5jILbEvJ4bFR4ZlznZ0ZbmQCTJoPM7h26qifcuP4lWHDvgw7hv7odzfiQi+EZAAtLw9IkeLqRHtHMYsmig3plLLQJNHPACkd2ppJMTWGutrD8yYdKLOLzsKO8HfJvLqTPx2rqzNcXtsbFe8J3SuuTxhfK0IIY+K9Cwec9R8/lFSd4XTh0BpYYftDw9MVbD+Gn9r1y8IGDBAAAA90GexkUVLCP/AAADAVEJ+Y6wV09LB+EAFpNcfR1f/9vlvrU6OeQLyUmsH/6aTw6OiIGn0H5aF2NSn+Zfn2IFYwosx9AgtsJ7e/R41ZtnLFbDNAL4+ARzwvjh1ErdqGl/W5QvPMw6hNSjWi6X8iAO4YaMPeXTpUsfSsI3jVC4XC1WUCdRx7Ku5X8GW6YHdH4I41dfyzHgwoqX2G0Axq9eB0q1QkUyBOmFm8RLVSEuaeQiH4Z0NxhEbKw0///SWcjm3e+xpMD1KAwDH1zG1z2+BsLCsY5TieZCWfystKU590Hk862/fFjQnYnlm35JArgqA4jBo4C2M5UAAAClAZ7nakf/AAADAgvxwGim8CcfODUxGfmqvBN7lL4ldPDLoURa8kEXNMzjEf5HACHscDGWluCruzONiPL3DoyNKJb0fshZx6pEiM+xSykd1WQKBESb/r63bMtmZPmz062/Xsxg1UthKpOgXpKKl9vgiLjPM+gaFti19O9Yu/GMHsKCxvxFYyKleZnKsQqAq5SUgIY7IqXzHIi/HNlwGxmgvbpCtE+MAAAA/UGa6UmoQWyZTAhX//44QAAAAwBDPagtLywQQqtHqa1XR7EQjGrbMuQfFJAyQ9/DlTaGa16moG2QpRLvja8lka58KtzyEXrPpW5ZAkxNeGU3dM4jo18m1QL60UyMh647V6lK/WuD5HuwNuiJTn/oyIQ1N9QNQ0RRHu9+rrvl2ui/NGBIF71x1QZKz8rDAYdGp0bmvntY55DbeU3H9IxhJzelJrJl/P1NX8F2JhbZqhjexB0TT+sGsg//0QCugsZSJ0IcvwsskuhX4RrbcQeL9JDvKFnDuvIdD4PQV2cfgAv5zsgq3+ICEevpXBIZGIpxnAQLWYYfkYZoiXl8FEAAAAGrQZsNSeEKUmUwIR/94QAAAwABBuiPswvotISAAAJ0CCjobizRmNz/O7BBX00ehKCDEsP3JRVO3qwQIKijk5ed9H08mMYNE/fnb0mXqt2HLvZ4jGCPiiqYHMC3jC+cz3htZsEw2mg1BaUJpTuu/dI3OR7XwTFDmD2F/qVGpRfM2fmLGOiU6/YZCa7ESPDvafSpFvtgURGwZjWjUZctzEvWmkhz/7aNrct7FXgDcCmjFWw5IyLkgiiU9qBaBtodJfXdhz+cL93HRJK/q+YiKBPNAuwoAlwBf+yboyju2IfrSNUehwELR9ElnrB25JBPBv1bTqJUAeZt0nhkyA6P21xG136QVZDEZ/qMuRObRuChjiEX/SNc3CGjTy0Sutinrvajra4s9TYTSlMpBof9dc0N+UwgVtEBif6VzLx/MyUgM6EP2gjd0HIpAmUOY3SZCFHJI8Y9TUXPCb5AewGsawmIlQfQAf5JJNZdPgLapENoa4AgTEipMKfrPbI/75oPsxbl8IzUC5bAVmObHKxr1pvyxPUzmKpzF8t5aZLuSrsYvhUXNe1s3imlUpQcwQAAAWZBnytFNEwj/wAAAwFQ6mvQqLqaNxWIB7IADaOpihphrUojqWv2qymobyLBEqJj2JCGhHQXlgVPrLMBiD3pNxYfqWuoSb9czjvtpqlQssn+1IIMCV20PGF+l2O/iBI/nrPZ+sU916O17yu4K8jXKpCnP/FLv1Tt1fKUe8BIb9W3aB5gvCfPby/5zNPV/bvOfNIgyxz3mOGy4QV2wvI6bIS+o3A37nIfYA6UQCPNjuuPhgPxmD/CmWAJweZoPc16SPNR4Hu2lkJRezd4B2y5ogN96Z+rO6mUyh+qdx+IVS5Z0/Dc6IuK96OivqVdNXHVg4dLSs8kypyUyHMI4JnOB8wsq3i1ITi8kDfZ0uAVNzyi3294gCsPjQ7ltjMyW9YXASGF4UZ+U0CfpoC4gtFlLP+xYso4U/a9Hg4GS0sGzR9b1C7uLhcKYSQ/dkXb7U9Q1d8avTTxLRtjLb2bhUSL6cvSR4mpEk9MAAAApgGfSnRH/wAAAwIKw8j2OTAi4Dw+4bVfWhoABfXYu+5TZFNAfX3K5KJFurdo15dF5/vaiYF02IbCnSwQZ9I/aFR5i/gIh0XLiMC2kbT5MAlMpfy/ZVw4kKyFnJprGWPh0w0Sn36/+cTqWYU5BjjBn1SaQRiFZKa4Xyk+ETxeQXM86fj0fG22AfnuuSX5Wg0zno9U4eryu/+l1gqzVQuicw0HH8bbz0gAAAC0AZ9Makf/AAADAgvxwAQ4nWviD84KkUjJO/SKwAN+Z0wG+Nomoqu0xRlU6VJXoKVFsVTwe4w8jLnJhzqkI4O9JSTAKyaj5aqGbx7fYPRWuOgsBB7Ux0LFHMrhw06T3+Be2CaCoCiVYbweu25yIgUdw6GfZDsnhxGXUHA6qRFOD1OqB8oELCU31pKrbki6bqD0Nj6b2tOHMLMsOWDjSbcP1YODyMqNrm6+elW4kRzmk4ZFBD4LAAAAokGbUEmoQWiZTAhX//44QAAAAwBBPTuP8vqq5YjyeIATrPkrNBts5yvdulYUA//wzfEt+HwpfL6okCkioRHRlP5d0pqnUjPi6IDTTogYGb+PfASGQv6ulEsnm977aSwXjC7e47hAQGTSF/zmrExGJkASl6Ed/DfE46BRC8HRFIB3EruTGAGcya1hZCJ/0WQSk65LKDuHRPvLOlXYkY/IYOLFdQAAANNBn25FESwj/wAAAwFRCfl8JiGrTNsONXHEK7dr81uTldHRKbI5D0fG4APqbhMKeY1BERiowScnckWQLMPcA/OJIKlHGuSkEOYBJo+4A4mDgEf7IDSwGFAUzqP59TIRj04lOi+dsnuTludvIJucwD61GM23TOirWNfvbBhUWtlQLkVRrMqBFfjlVd5ABLoNIKig2hDbsNgJM35xp7z7GrRJXOtYoPDmHR5c/krEiQ4A3NZtJO6OnsKm6SVcnXpe5qube5a7QdQzJiokfiVVlWmqR81xAAAApwGfj2pH/wAAAwIL8b/yTvB+mtcwLu21+CI+5eigAmuGd2/96iv8O3T88+hJ4WONnJgXAIOo/nkL8CXN6/969YUaAL5QhwDkMeSMEdZl8aNvZf4rFaV5/2XGpw53IhbRftG1N3oGJY6x6nZ+G5gXFt/hTOUeK3j8vRkSUBcMGWzgtkqzomZAhYtcSOhGzqSaTF19OxDTJpUdHQeMDMf5MzUMlJPUZfXOAAABYkGbk0moQWyZTAhH//3hAAADAAD+7/qaKjg8yQtAC3PAdLFiyJ0mvZUlT/mKH1sOhBwOQ0QHL+c/dJDv8NtWSIGqRZo6+TZ03ATvvfxIOTOK7hdDYWLpFxuL5qFDN0s1OElwpvF+6YNBPSgi9FLNRLkBsg+LhKCsmw3xrDBmgFB2uVawx4Ke4sLJtNgylqSXqTtX4ReW6SLhlnV0I4wPCij7A4t0XVTMtb3OLYYHQV9sgsM6hxLFG4LxKMy8ksDWIr9ttbwJ/ObNrwpHQrc3GMfcXFQEblDfBcbSg2XaMncD/XIsrHqYXKweA4GtXDiQvQtI/fbPO0tv/qQUZ56CKFNfgv10LFgCzy7MuiQ5AjNMzp43aOh7w9JsoVFbibbtag6nN2O14Rpq4YebAJLWBUuowEwQ8jz2MOpkgVwItfrBTNlr2YP2x47kCIej0ONlSxdXxOi0PE/3Sp4qOFThW1lJIAAAAMxBn7FFFSwj/wAAAwFRCfl8WWvzG9NGnNS7jzqplFgaLq4NqDT9AACEM2eLv9hZvnFhxCZGenjk/rKrKeTfLH4DctnsCmnNpfh6pBE5yc0x98p+GcC0vuF2DY9F9zk7HROUb6t4vIkxrxPeE5fuUKG54Ir1sUeLeF7qD5F7VhnumaY+6dWwv5MM6WZ9SjiTEKM8W6McPPrjgVE6cp+q0z+kZJvSDJe9jWW22b4lBP1j5B9rCMQKiuWwofesb55iv1X0u6L3ledTtuEUbUEAAAB7AZ/Sakf/AAADAgvxv/K84WswdYVa1G0Hoj/Vc/ABEKi+cFmH6PcF5o6oIBNMXnXo9PH5oW3d2xwNn9Uba0Bp3pv1h0l3OGfh+cASfvgfBHCFxI0qDpXmZYBaqxnUR/bl+sCH51xrBfV9q8zj/a58GUxVuOR64360XXRgAAABqUGb1UmoQWyZTBRMK//+OEAAAAMAP1jlyqAnBKNwAP2n0bFx6padwL+Kqlz35x2qX9Us0XNcDAscDPebtb94vqmCvr1/qNx7agbL92F5M920ghKwGEloJ/LT+NCon1icDMI2NlzJF/WBh12crHjt3GxuwlhWIWXanjJaU0UYi/wuaD40lo26YeaW7FPskP/a5oLKjfRfuMD7q0MTDOH6ldd7lIY/wvRHZ+IaxaAQ+vms6ykSIrlx80Uy0VeVYZbuFnaL3+8QWO9PxTXZEpGlncoKaq9oR1AzHX4zLRLiAlThxICUV5MuVW9nQd5fFmzYbcFyMAkX9qIKpZ7QEv59N+svtcyfsJ9nVIlqWPJNh0C6p/yg0zkEigZ/vBHyCRBE2p3DkeoAfug5K1tkQhUntKpaE4jm1iuaT8lqniBrEzUfS4tavBtFPOc8+WsOXxhtJmF8m5PLZye0ifkqve/4IRGhwkmO3PjhPQmlsJ7fZbUTJRyft03ggZSKXC0AYH5SZ20F1eunV2lmtHNj2Q8pnyViQVLNxONRWC78YfCSQ0lKWcrHdRxZxjXYAAAAqgGf9GpH/wAAAwIMfHIyj2nv0VeUK4dTEBQrxUAC4AQhM3Skr2+y/+H+td8lofyv9RsqmT55sE3P6+w4WBatcEyn3d8PGxsw4feTRslMf517HJx47KpmzITJPA1y3CLcKqw0kf5wGmaTkrC9EsSEmvmHzQKM/BxTro5g3S6CJMMcPNEtjAMOvkSB9u5TyHAHgev13RtLZKikiKKkSOfaoeCUtR44pXu7NrmPAAABEEGb9knhClJlMCFf/jhAAAADAD+7/01o5QQAANqOOFFKBx9KrzJrY0maIScUJjZr1jR+86OcfS8oY+kD2K4I8sYoVUbAobXOSier15selACNB0+67yqbvtZdyY5fttQv9oIPfm5NqK3rGTbW9TWuIEiivnDDrfhdOZf5EnbE5eCv9m07OqcZSCMon7MpTnHycgdzlQcJ3IYAWEKiU/gX8lP4+ex2tRnPGBWYoru1NGqgHGxrQzN47Mi288OLha2zk/WAWcwAyQGuYZGd6x3Xdv4nxUrbq5araYXvJeKyjbHnr3tZATAofSx8x7DGWkVI5QP+lsrVMwGbiCCt8FOdUW1fidDDTJHcyTGVyg38/n1QAAABZ0GaGEnhDomUwU0TCv/+OEAAAAMAPfjlqhywtj3VIWfoPDGghgA178pWzH1VkS3tKmMHPe2ttyD00AUMZCKgiv/x+Ylrbb0u/nOlF1olDzD6EbuqYYtLD+ZkBsFZbfHvMVAwKo4AHc8SfAXZ9wPSwfQg965Vp41pHeu0+Ruv0059VReqOy+6q4w6keRCtcfGddK85lk7lO6hufezopYM++hDarje/sPsztQy0Y20sdbuaXSuB61A0HusUER0BpRgJ7Fri0DLGcoUFCGKhyIyHv5j8pk/bl8kdAKaeRBJ+rkiH7shPTgmb3cahfcqXxvySGdo2Y8947gYbHBKVV9P9H1j9Ga4UFjktD2Yftcxl69PoQBe8wzcDtVEKDveaaiPT6ckuq+3t2jVcbrrvvfcC1T6eB8bVG02ARsc7tH4pq0Sx1RxMKUTu+ezqGtfxZ5YJiCExfE3OeNqMXPZK30DCxLUskfb+Si5AAAApQGeN2pH/wAAAwAIKxiTbj2f3XCiSIHB1IAE6/5T8TfMlN+kUo5uRuB9tiYm2QNXeVg34r5CMNCOsGfrWX//pwVt16EaKw5uAiSIodAa+UqgVfbV3PH6NfCvjd5biv4PCa0eyqP91Vydoa+3VWk0bgFdzOijGnJ0DM1A+P8Q6/MNxufyiODpDBYUB7UrSTF6ozTwnQeTDl8bLS6RZBMWzwhqK2LnqQAAAPNBmjtJ4Q8mUwIV//44QAAAAwA+W/816aOaSs9sgAcy70w4QUCi1ylihrL4LwNMZ5RFIIEpsHalHBoTwQxwjKgqH+FrJbJ4kj6t1NFxOHQSU2euCbTaw9jHR/lIqpZWpOQPmN6TutE7WBJxmcTkL+kjiq7lyWrcv6af8SOEzmXpUoLVLjLFfOlXPm80XQSF8g66k5WZpHnTY/9N/VhmXOE5k5oOGkmbMrxDGHa8MpRnUyww/L63tkP8AoSoLsHGN2nSYBYh27Mfwp6fIIMzSTxI3YbrDRWBlAu1HiyhI1oShMLfG/duYLV+3W1ZQNwCCBVMKfAAAADOQZ5ZRRE8I/8AAAMABULNoNCJbN4QAhTuTRVmE7oz5r86DCQhd53+flh6v2DZkaNL7QUX/4tpA+3gFHm12vdWe0vecAVJO/mIaJol5uf/Q84NHkRJibnWG2aa5m1+wLfj+UPV3TWwDwv61aCqRB0d4cXifSjk/Ah1udB70iS2l3Rz3a1K9CTh6jo23P/KkmULcRHNqMD8fgyzPKJCUgeBzu/6CcYg8BdDuk1dQ0Ca/rvQhaT0/8VBC0q4nOgrMAPlrQQoe0fCOLp3kBQJg2cAAAC1AZ56akf/AAADAAgsetOPh6mC08fS9TSf2D9YsuoIxvTnlAB8fLxmVrQ3ZDbL+/DUYrvKSFPmrPZClzjIDbAFr+qPBdxJgx8E9+8GBzUVNa9OKZc8+svqI+jQBBz+s9zrMrYg1xFEunLIVZBjT6D0R61bQrhUdakkFGVHfWW/csFZl3KRGk5qrpzgWBY5h3Ix6zWAdZgp7JtLViYLPjd5/Eh6ZA+1qi6h7p/l2JRPpcdk55bu2AAAAQNBmnxJqEFomUwIV//+OEAAAAMAPJikKBLTrywQlWAD9npc9l0z2T/sCjV6eepeX0eoSwW19N6VZQ3rKDbnr17OTiPKgFo/9PDoJ6jjkN0b3zEFvaj+tINm6vXMNmjoa7D+8CdH94ANc5CQ6Ad7G6PTo6nYJUHFL9Nb+8dxAWfuXMPCkDHtSS3JpaznWErwaB+W+tN07LI6v3F6YdAiotTqykCe9lD2+thqXZy7FBaXHkqqNl1RO0lK7bBhXUVC16EoXQdKKjj/KoAZhQJomEDqPozzl93efJqm6fexwX0103Lcx+1EdSuqk+Q1o9RAPGy2FNPMAPv8dzY9geH8uSh/TaBZAAAA0kGanUnhClJlMCFf/jhAAAADAILQ0doMPMynzW8ANx0PYzIW5e7Qfl3zF/BJb/J6mY4GBK+pU8iPGZGmhw2y/1MMh8TrmRSZmUKPfAQo2g1dSXoEjvZcqLFthGIj8ldz6buN6Pi4RNwZpgsKNnb1wez8YkczQKCM8BVZmMfAgEbGA341Lqa4kOfeev7JEDlb0/Xt39gu/zMRwO4l3Jq6AFET0/EuA1P5KejSubvLYcDWxNmcOQVr1uGUP3WjcabqCVPkJsefAd7T7j2op6fT08dugQAAAMhBmr5J4Q6JlMCFf/44QAAAAwCK0NmxPl8AAcbysSCEoV6zLnxs3QQJqczJOJHQXz36x0HlHMQCZQSx7j0jTqJVdtBBYAc9dGxDB6gboR3gDLQ2qp1vj9phgBN5lKPoOehxFXcUnZwhx1dB7GNtvTJZu8xOWs7OKu4YcllfzidujFBMYNfJStE750t0o9RmmmbsBHhsoGVKWdQrPphAIBOs6eMn/7B+eN42KegynvjqJMISwdLPFm0IX+tDwgkZZ/9iKKB1dv782AAAAOdBmt9J4Q8mUwIV//44QAAAAwFhjZmVOrsAIyOa0t8GQvMwbjUtwdccjndzwMOIvxUDn6V12mdpS4pULd5wKIqAQqd2QCidBbiQrM7Ac4nw8/ltl7Z2jZjazO3URrxw3CBYVw4D0P9ykdqYPuCKH9Tvcinue35MNLRV9py1f7pAdWipywRQ83KveetZdy6mygOTn7rbC+W60Reuh6wGjxtD+ff0y4l0yQSr1t7RU0cA02a+x1aXG/CX9eaVeLA1WFZTE38Rg8v2oDJw+wWEaepGdCwVB8mfMXt74c7UXvdtrYPRr4e+pYAAAAEvQZrhSeEPJlMFETwr//44QAAAAwOdjRi0SuyNkUcsSsIAJafOsg/6ks+pZ4sUKHotYLkxYl+fnc3Jy1kJ7bhnj7mPBQNPZLKAaDMGad/i7dP61DkWSutSbLuDI+1vBIhZEOyIj1jY8vSTyZe8iVxe9cBlGbsLHAjeziowU5ZqN6k37BG148yIVsF+pTM8SLcORHyBoiIJ3UdHRSQv20wgvRYm2QjypvmR73KPTjpetHBODb65PTz6AgNpfvXjAxW0fsqfRxveH0Wmg5NwuiEA3QZnMUjD9meYa+7RbIuSUH+duIAsHQi5zrvfgJDpeD/Slei9OPhNqwqctN+B0nEBZ/4gK2c56blUZO6bkVW8Oes50sq95oUwzr74En/bJd1/6Zwhi9jXkiIObOt4/AFtAAAAkQGfAGpH/wAAAwB5n6gbwDV7Lrc9VPbOYDHpDrhGnahEbFyDnBxs+M0Dh8Icmm3MCH8r34JzpWO+1r84L7Tnntlj5rfnG9Fu5hARZoX7aZYDzkY3p4arauVIIfYokGmY1vKBVrb9u2fPNyW3TWH0JCpG10p9HdIpYqCDWuPKKh+hShNKq7TOMQZ+uONfJ4fQSB8AAADnQZsCSeEPJlMCFf/+OEAAAAMDn26iwZ2IFqaFrBwrFnLYMcANxS5u+X4itaQEyt6920wr6poEb45ifMmqHaG7Xn58mLa+Ke3pk57JGSbh3Fj8zRuAnXHT19akX2UkySYBkRkRThTtgQLAN/ndwSjiu+p14PwAOGzDTxhkQ2pU9FRzcYM9OYe/sIQO408rA3h/l9BfgogJhABnEvR97f9RAqGOn2EUcI1gNwGKktB+8/wGcA4dAMktmj2BSv8MQwIa0oljETy94NmN2S/sr31+NTUkcm7lJh4VCtenHQafbVETzY+G7ZuBAAABSkGbJEnhDyZTBRE8K//+OEAAAAmnpzzRZ+BpiJlyIjgBuOnVV7ewUSmpQ1NBmWTEDEu6l8m6XOg6krKDv+b85mGz4/fFiK7eXeUUVLUhwaP5RnHxZQ/2Z9XMHcPCNw+dLDbIj/bpZZ/4QR42q91n9AjZDHp/hyThwkqS4e6zc1KKQ//OPfNrV/m4rgO56DUQE8aNVGrQW/Y0rNGc1rwucFvqdhVSMme4gyis6aKh49Oi48n7iU4Hhs3xkwF5brON83GSfm7/cSenLFQvWDN7R1ov+tzJEPpNtf+MsKPGMWOLxYH+6T+GRslVk5wqlV//wvvNA5r8vSqJ4ybN2Or3GYiEMVbo3jvMkRvD/tYWO/FWncZe/L6923VvfePkF/qPJsm3sjtN6yxNzJGpHonFdY+qgj9l3d7UWwtBEmDZnsRA/CFuJVDJ7GcBUAAAAFkBn0NqR/8AAAMBR8rrCRlCFR0uRwhWzZlldanwUYSshiMaXKm+Q97KVmIlk4ldqR6/8prFyiJITqu2xQJfoAP8dIPhrKUqxDurwahHSZ5QwfZE2QGExwa8zQAAAOVBm0VJ4Q8mUwIX//6MsAAABnqs2ClD9iJgAXFpLUyA22kD/auacbP5J7x9ZReju9PCVb0/o3rfEiwfTnZjxhdwkn/jMq7Y2iGCWQGdf6Kq/3j5wsmnUkRUSSiv7IOoJGnD4IqDPLUyKspQZX/uh7pHLSQr3lF1NfIK2HhzFPXLgkFASweceJjxkGVyrFHReHqEn4iLjVrV748WiPSUemOft+M9rZvfdhhe5J5cBoOWQ+mKH8b+rNkrRaAsN9b696gPUfOZvuBPPv7QGr+TUGOOcqXheiS3LKcJLHj5uATgu5dQJPmBAAABAEGbZknhDyZTAhn//p4QAAAGcBNOYNxygBx0uE62o3QwGDaWvcV+u+5OIoqxvUrFKi5uzwPnUYKNCWiztXxS6sqOT3cNXSnx+s6zPBYDbVEiWxvIa7YGBn6TDmmeXZE3BiExiwu9USv2VlP6Zjfy2++9r5Rp4Kv/obOXj90gSIUzoLfL04cD6/mnr5AhzzGGf4JhJrDwUUUZlvnsOtBVKdGxJYhqr9fSxnZDVzCkDNVHT0RbvQXgt+vDRtp6ACaOra8Pc18lb4CplEy91tGIWl3jcmZ/UFByAeSn6nLE7dk5Y2jliuLBD56lqePMUEYMs4pZzAynDwAsa3xAYWoBi60AAAF3QZuKSeEPJlMCGf/+nhAAAAadPI+k8OAKtzGppVJtr6zfABb8BqTySTgerOx+feoxtvhXxpYHU3RZXWgJUwvhRo00DnYOTR9oscrnWVxTm6JXTK+qHm9pqMA6HHu/IFp/mGm/3NGDf82I0BQId2jYDZ0b6CAGR3ROzZvDsVcASJw2zSqxiApHaG/DfI5H2rwMzH2PC79EmLYR9cisi2fllea5oN2aS9v9M41hJH/6PWzpPQhj3ravMbDWCZIRl+4zajpXt5A+RKxVF6XcVAeE2x+VRRqfGTC0Qd/zW/yIL8QvH8ytH4jrSHiLvOuxaMCulTDAU9h7vDXjRGIp/J+oACFEUbOQ10e7fSjUSlIga/cQXeqHb21YraKteEHavmMGtk3JvFyioBblBSKOPX7FRx6FL0y1DILG2WP//+af/g+xsEFsQZ+0UH0Pl9CK/Jx309n1nG/Xyjlji0e50neD9pnNq7MEyeLHEdUWfpyoHKZHFN52u67BAAAAX0GfqEURPCP/AAADAhtjElVMewYo3mswio8Q4M0OnRux+PrCR/IhSdf+2kAN+J2f3DRwIok3raOJ8xyi2+JQJQrAVJNrn/l/Hnaqjj93E4Obde2ueu2+mUxsMPdNh2A4AAAARgGfx3RH/wAAAwNhd/qCi2DFiZevEXEzC+OVpKmFM551LeEXV18mOt1N3fd8eBkgnO6r2pzPaiYNqJE3akyKi4BKc0coFIAAAAA5AZ/Jakf/AAADA2CpdQwAcSqwXq0hyU3IYsgkhBCoBTOyU0O9ecDa81ANX5NUE8zdOSoZVG7K6jvNAAAA10GbzkmoQWiZTAhf//6MsAAABqZJmeu4TdZYZNO98tjXO5D6EHWGRRAGfbg8J9vT1X6qHfBWso5kBfmH7RF1FXJ+kOv99+5gzSRRS5ceCh9UKnPPOyqRvRSrEAo2b4iofijkHTHPvkpbFoyVR7rcjE9284SJLGGFkhcgAQCuAZ671a2yNYlNuuRGXF2fMDdwz7hD1YhBilE2OZwmy1dAT4vn8pW67vHncY/5YxPtCPUzcWl6h7MO/ZMC/I9ZuCT0So8gPcyG3cJE/D0Rn3pg6L7czDOWDzA8AAAAVkGf7EURLCP/AAAFjCgTadrfEVN9mlcrCXRfGCNxgaolACxfQFW8WVTcf55/euPcUZpAruRVmDUyXX7qEtx9N46m5WVFBOemmngwLpW93wsoImtXb/yAAAAAUwGeC3RH/wAACHDR6t9I1CiioFUAFfiUoP3BXvr2jWAY54uh8tvfcfBq2CE/5PvAzywqEBx7bgZ6Z1Eio6zai2izm2VP8iZVcOyPRlheb2rb4V5hAAAAPgGeDWpH/wAACK/C7CaD15OUJ5d+RO3NE2VlfOshuHzd9oX7Sx1UlBnoBhjRFni2kz5F/20QAgyJhsrybxAxAAAAdkGaEkmoQWyZTAhf//6MsAAABquE54uC5ElzfilF5AeSBdladfuUt1WjH+t+YVlT0Hni8907lXt0HBIpOIj5lnKgmOYt6t8lVyzIhpHbtU2aSV8m/deEwAAcG2m4DDlw2tS7Sp7nz7bpRqRMsdw0CQ+V7AqpGesAAABdQZ4wRRUsI/8AAAV5TWgFkKQLy7Eh1dl7JG6Qgvmk1yrCFdJU3hCU+oBUhWfmnLJhO2yjuBsRhP2sizpT4FajnwIfJOFdBqvfMna9nsiPOQvnom9JbvebFuZvxksvAAAARwGeT3RH/wAACJLRmUwXHj/wOAodqttGp31rFrW2CQyW83y39//jnhJ782LfmRpAOQN1B+oBBp73YgBNzrpwr3nAPp+zmS6AAAAATQGeUWpH/wAACJLReEgizwnuG7FY/8tZRQ/v78xZLGhcvCrfmY4xFjRU2M85m8lwyntBuUGu5D4DTyvxpG/FHxvIrvUAH2dOvFb1JuhnAAAAyUGaVkmoQWyZTAhf//6MsAAABoOE6PVfyTOzhhKjoMyUgAaKoL3Y0f6/aRjUmm1opPouplfpljY11aJV4Jl+/lgKgOnTPT3cDLvKDI7J4F0CaadaWmA1gk3m4uRFajO9D0P9KxIcGGIUlUFMj7HKzAUFk1yCphr6ps1Rzi7MVS4uHALBFXqA56sqAoQ8OnMS/OXswbSQVxJNsWFUEBzNnxRDBs2DJcJ6FwbMBRzYKdqooWWb+MbpzCtq/j59Kioe7B72YrZ5XJ6LcAAAAH9BnnRFFSwj/wAABXsf2FkhBZnVCbdyFsPld83FlDyrU31+UwsGf0/4gYiUREuUOHkGl+Wlsx4QnwgUBzbvotsG+mR8SuCqBToOJWmYoq+q7pfYnYfmMBuwXyaNKL0zlzCxKmKdpQcB3osZJnieUn6XBbJ4Fo4BL6nFDX+T8wZgAAAARgGek3RH/wAACKsOLSr6rn1cIPbrreIKbLLc6DZ1gLrLYtE0/y7WjetWdXDSwkBr4rqPlnbSXUrkBIhN/Vk4AS66q0Oj9uMAAABSAZ6Vakf/AAAIr8aEQidjsHy3MGhNH/LkwMYpBhkOBo3spBnFudD1On36ZpDNRlz2QyfHw5GGPrkkYeVqezMGcNgMrWyRXkIK84nw0nt7zUPgCwAAAQRBmplJqEFsmUwIX//+jLAAAAZb3uue059PFwvokbDpFxibEEkZQkWQUAJ1oc49P7rXtKQVpMScVj/PiqqhhQv7Elz1p7LY1gvJlbU8T0jooKV////35dgZ/8Y+7OZvtaxqmODqjpY/qz5FJUc6Fjo31N8GjyvYI3kpxtYrhnwZE+UniJMlnBsDEm5bGECsVd/IQPeqkulAHVW/RedcA9qpJ/w+phrf15Dbg9iyPJzkCDAhKnNrSuVUE1XAa4dNAA78yyMr/Pyhob73bx8yiIQbjrkMTCe4jHwrAxydYm/Jo2KoXmyR35zbRTBnz+B8J537yJVbh11f2wODZ8WGZaU8cTbAgQAAAH5BnrdFFSwj/wAABYwoD/vMicFqd8uBACYIKwE0DVKYesY/7qeE1ZKgL5iLGzmoZ5vgMQT0vvhfv6je3ywjznmfAMXHOzv1o8f92L0QYWBKBl2ly8WMdfocnKG8TYKRgfA46nLbn16DnP4UrQyi9HRj3lag8b8LeUCvU05blMEAAABLAZ7Yakf/AAAIr8fP43ASCsZnAAlVTDw5WjeDZQpt0YWvDlYUI377AO23z8dQAkuxUBxVB8Qm1aqUuFsazDhJOy7W9o/KylP1gxZIAAAAhEGa2kmoQWyZTAhn//6eEAAAAwJd8Vllo2RX/s78NZWHQyPZmMFODfVyMCZw0E9/54hnyF61+gUgtuJMoIAt79mNaD/wafksr8AFBPk+RMROGXeIdH2q/p6wuNFYLZYdtCkA0zg5AvOyo2KTGAPtRJ0Em54tVKffBS/hrEErWApwRrbgZQAAAPxBmv5J4QpSZTAhf/6MsAAAAwJT8SWXldJp5oath9ugnkEhz8ujO824AHZE8ML//qHUCMzAWHbW/wvsE2MKYMa6OGOiThVz85IyjyzOi7XiQu0+ILjxv68Us4TeHe21XpZ/ndBnFDJ+JRAkoK4oBYCGs6O5pAQV03KLEJ3BzRfOF2XHvSDS0o04Nj/384RwjRilOWtrU3ABUZHgX1flazEDf5GdNLnXB+dAlzVxJ6FYbSED4FUsnvh/BlMaXRXyKrRD8f4iVlQ3itgO4aY+G+ZlE7rRLwgH0jafg53sit6cP7Oy/pRhejCyzrZJbHMD8UjuvK6ddHJjKCAzJEMAAACLQZ8cRTRMI/8AAAWLqbgRIqmtLsqWOb1ih3OogMhtkvvkjEczJsNQG57iQMk8+ZdGqMtI/Op0+uYAJXadBADcwqiZJrHcXGiVyO++ErFYBJe7N7CoIxmU1tzsYWH1hscrdsK8x7ZfmYAEcUEeKD1UhVAP8mkHfNN3feBVhQzwHuQznBEgVoSmUxAFUQAAAEcBnzt0R/8AAAirD5Md7xK1M/C8RyyzlW6QEn61jUXcxdnzzZ2VRk/3W6wtEiiU+WDRbYo/euk0+cxnBD/I5KUCWiayK6FkgQAAAFoBnz1qR/8AAAivxxP3Kibo1kD3bWt7MT8/D31+dlfoDwpr7VCSZv10Rpj2bnO7VrxgAgAevdQtPMxaXTvL7i943d7R8If30R+3oqjB+2Tyw6aUfQ8WBJvtmoAAAADYQZsiSahBaJlMCF///oywAAADAFd9zPUefqP2I3Lv3Aq8OqvrGhkSQANFn/RT18JmekdjvhrNgq/L8Mqn/S/1lmurFM2l3rPfZdG24ogwPxrX38AAdw4cFprBI+DS/W4hJ8P+HVBvIgUxUM5AIDgh9MyzF/9rWe12u08RXyikV0lm5kMoAwtDztm+l/2SaHXqpVNQJUytwvjcnOaQPqkabnxLqesmAkCEqERTrsBpDR4NCAT8jNd3oQTwU1LNyBp/jGpD8mu2DuFxWc83+ovlqNtmnAnPOzKAAAAAmkGfQEURLCP/AAAFjCfmWrCpEqgOB05Dx04nEykQAjQF4MzJGfK4frA4qJVbgPp38CG9J/nWM3Q9v4xykJL0HNDIrikMp00pbuKLxyMroHZSyaZFABSESJ/LH+H4SIWJXSCso8qy95o0oN5svUHXZPWk3qTclm1xtB/3AFJkla+eWeTmM1W760icBBQtgLjAnJoRue4DX2nFG4EAAABRAZ9/dEf/AAAIqw8m1AmjQB79TaAwQCBBwalbq541fn64AeNpW7O7EynEhThwxqbiSFjb7KogAcBnzUh2p/Jz72fPnMpwb7GGNN0WYrMdRJYcAAAASAGfYWpH/wAACK/G+oVWan99jL44ys12vRTYpm1/+qXTWWS1bClNBO1HbAuannagBIRyRGHa/JkjJ8LdtWRQwaz13sRulR0FwQAAAK1Bm2RJqEFsmUwUTC///oywAAADAA3i3DVnDwjXoAQhEBeH7gHrxVMkm91bkqTYOZWLFPt+WGg21dhq3keyZ7omdtvzm7KmW1Lh/nq5YyHgc/7oNqANfvCq7vsIc5wvV8zyQzDvnyvimPHrV4bkEp20MprL6O340dYtJCMiRStkIvY0HhfEhpHANC0ERr90RpyM6C0JrhIuZqYaCj6ehrzhxo40zHXlusCCY7tfjAAAAF4Bn4NqR/8AAAix8cXDytiRhk0bSkAEPb2nKglprjMw9MCz6hk3JYAF5Xbg1BBQ53FoktRxrhc/qpk+XsLYoI3hAZvnWfbnXTCNjs2ey0Qr909S4WNnRCxqGM75++uBAAABTkGbiEnhClJlMCF//oywAAADAA33CdROezGz4MAIU9PHZTihchvfJKEX4KqCzeyqRGRxbb5PgToIBP6JBZJAs6cEFsy6pf7rxr1iqH2ctiCb66H4ozR5TNRwAihyF2XEJm3z11+QqvLSZOxQs4sT2I9RxYj16kaRtlO3/zpci6gJMz3I8xoX9tCw9i7QNGlhdW1Uxa42PMUympQWJyO1Gj7vJ5sYaN/rrVGNeUjse68iUQnr82Y/2PxjrbFfHhlZPKoxryqxkxwG3AKplPLRYt0KxbOPD6c6Gs5hYPGYhkbPAm5ybc9mYo3sjWi30knJ5aK0a1FmGjcVqlXUOZ64bF9Gh3HzvY2K/C1W+39KRmqZGnvVkR/simT9OKMdzkxPYsUi31w8KZ+TOyIzj6CVDMa61eSW14zR4jhnjrqlL0tRDiicYM+OKOQni8uj0a0AAACrQZ+mRTRMI/8AAAWLqa47+t8HuEqicgBChPY0hmf+Xsjry8pHqwu5jTfUX9KidqsnBhpo+VyGvzs/NwOIw+4lq/h6Ck1W1jIGENH2mgfNgAUX2Sk+gkdTdm9r8nmEpI25dMEqTChBxYxbpHwO//6k7WX/+aidLBhoDGqekN2Ndw9BYS2qOYDVuRTz2BMSt8XjYPLAZyCcW3ISUUsIgfrjT9xOY4IzREGk6QFVAAAAdQGfxXRH/wAACKsPFw81iJWZHlRyuxWPE0TLdk8ABOLwuDb3+z95VEt/3gCweSAtWP/miBBw4wFwjgSSt+BaeOLgc/kqK8M8KscR9hEduA4Km52d5/DYl09vwknxT2VBaohseiEGhkfUybvIZNKrgYXcKJwk+QAAAGEBn8dqR/8AAAivxvfVYcy6Xtyr6B8lUoABO/XFgoWhpZRiu6YY3LGuy0XRb30iKYPG1Ld7C5pMa0otoBGs/rQQtHfVbYff5+wN9eOB34kNv3VSZk17OIOoOnN8sLtXdx+AAAABuUGbzEmoQWiZTAhX//44QAAAAwA152JSih+zwAhThEVbyVrtucHnDXwZQVoJemVcap97+KfMGpeH6aT7DuLPHhfcykHrf1M1c4zeEvc2K8YllObYBYcyd4q2PFYoSt0WOM+OZ2ewSCNUXXK20DaUD5uEKNWvh6zJu2xcE9CoY23WgWlB9IYrlY9Bg4xSV6n++d38aWhilpQ3I3U34ea+yn51H45v8tB9RW5AgUdqhuEpKKjT2auOP6y8VHG/xk8bpy9osyUVruywvYjxuBdl9xg9Tqbm7wt4ArrxA1F8aEDi4eDdzQBmFBxyZH3au9yUZDs6A8GsgaSsT7TXDhoeTW+SIwafEAudOftWyuA/g5qe8m4QRVnu25lkUtoq6KApF+mid965aXcT3YlBRjA/T6XdpnRm1Tri3zJVnZmeBGYiCVIQ3OBa0KT+Pln8oNWMpQI5xERAihe19L53sFUXXk3Ss4VSHVTovmgI/vXTVJaTL0Wf6oA/iC2kzHqfih5mtVwi51xlGPAWoykR3Flpog8CtjFuBipJpwLQk7d+FY+aKsw5fg+HeLPiIqMtAZCOBy8/b5/+byPzIAAAAPdBn+pFESwj/wAABYwn5GIw926hjt7nrqB6V9CgZDT1lctdbV0KTACaNY9QYvw+sjPTIBEOi7OmwhqXJDgL3cGji3LvRfLWPOtuXFUBWvbrtgahvDLV08RFGz+SblOSN3upw2xZQab83UsBrUpM9BmlTIUg72cEpLE8f2wH8hSGZwuK4qHJ4Qlf6vJpcnuPmBE9UhsQQ3vBqdzYCwPhqMDmonG9a/iQD+5vZqHU1VctmMpx0oOmr1SHBkbMFQyzlyi3SHqE4TcvpjWnuXS8TOCXjyvLjM73Jg4sT2i/aHxUuRwcqXyA+QAVLWkFqrsEfN2F9zH6XnS/AAAAewGeCXRH/wAACKsPFxGesC2rt2ZXjOavvtuagA+oPOAaenmdCOmSksDMqi6SCJ9ai6jxd+IwqCIzHo1IeibEvMEEnyEob7NSVchBIOt/XLytmzX2PlKlJjO3s8bP2AWfnwfMtqtQDi0wsh3sYkX1BqsQcvNJ3dSmiQI23gAAAJIBngtqR/8AAAivxvffRT7u9n9AmSzJgBzC+DChlOAKpICZYNRXYGiYokuVKgBWAh0HprXfIbbLQcpLsOJlXY8rbtbCMdbX2gs5hHrf7OyMZ6Fg/sISfYVNFn9Bz5lFQjonLGgYY4Tbn+95/EnncOFFDMumsSy1etsVomrpLMa92pBwswvFU7CRN1GkUCEFH46/fgAAAQJBmhBJqEFsmUwIT//98QAAAwAAgpsI2auWFU5AC3Ct+sTBWuiOCGTv5vALYiCAQe3vYwTJ1DpBXDdn7J1oOgrGQTI5BUiJzi71bASxH3vvnnUxhjDosD4kV/6QkYccH89B6U8+0MMjooigiECLC2aiqqciLfGiO2hD7GmWOJo5RQgXwF1WUUoF/aWtuZFeFT8MRrMqURPTWs3DxeP92vs26uV4CuWozHrZoAKV1J9TAkEce1/+4WJE/XKyf0O29N5Dsf9nvhLJE8EvcWvTjA1KHFa+1+VAmWDgmbN7kYBZDymYzBCf5hXqG/NLBEDXgdPvxyOzREMXUmCDsZyTSbzxyAkAAAEwQZ4uRRUsI/8AAAWMJ+RiJejFYeQz0kJgAIeMKQk2wAE2GKxBtofstmLlxZi03LdyWCiSF9gom0kdfa5oxFJ+KffTWewJL9vIT8Uxtuv5BdEG7PEjdghxrYnkey4MwRPkTKx8Df6tewl5Sweyz9CZAWwkVwTkm0aQ4rHWNFTZxZmMwsPvIe7xMVaVqpmow85ed0jD18A123rpDYiuAewRQfPgZaUZ+GNnVemKL2Ur3JCxkABEXSTTBnGHaubI9P1NNqfNabxgYIMDHqZGJUchzyh4uurdhEkojVIBCmAstY67o8UpzqkgiBeROKrDeXstwY0I5uqMi/dHRE4xp3BM9yih6pLXXf5KL3C1LBpI9Yu0B85jpJOUU+UYkeJM342vDAMmshO0m0ayQDqW5Yak3QAAAKcBnk10R/8AAAirDxbpN5eHT1ADe6r7k/hpt4Pr0iMHog/Cf8An9wImQdrpVUjRnocEJ+cotgTnx7heRKITT8IwMls81ETb0Sz21KNeikYcaj0LKufVZGmAggSWquac7u3Y+jVQKrqAv+CJiI1duxa7EWr/hyARYPzUWRDfHXPGysSnqaleJcG7Q/D/V/KtCCjjIsYCB4w8cN1IWHzNSzOtWq4a1MPHgQAAANIBnk9qR/8AAAivxvffM5SN2FSzTiY62mjaWnF6YAEx570nb6o+tCis80x0wR/TSefkxi+T8AIiB3IJlwfaYNq7swt+K+rGF25o/oAlO1urP692UOzN73aibG5CUnwh0B+5NWHFN5bitc4IyV09iQKrJXv91Ti0JNAO9xqextEN0KBhKGa7esjQqZ1p3j8QhzwYWS62ljreXw+tp84dmLP6wY8xD4JmcLuiCWxt5uctHwHAx4VNw8VivYtVyi2h43tQnHJQMYCMe9v2xFpUegdbSIAAAAHNQZpTSahBbJlMCEf//eEAAAMAANPv+prcYUcegAcY6rxS5YU0vaIZLbjUnWymlODbQdV7Ao2jbR77PhgpnQTzPQxPUcVVjyzLPOXANX4UViaMjI8lvaxO7zgoigfQUjKbP0JMn3f0xwKT6yWg2wqEZWtIem8GLVu91PF9xkGe/JzFaH17CEW6/Hf4aMdOb8KHfwCRI2fikF5YSFMvHa8oCFO8BW4GsMGO+eVSNBv8fLHQ3wu2GEQA3OsFO0k9zczFZQ1Ajkopyf5HEB33ZhJseA4uJvo0Qt7gq6CFhQgxCI4eedOQvbuBEV9g36bUAc30aqExB++2h53dZZO/9JlpJlCOGoSydOkWOSJZml8N9DqVbvMBoNSs7EUE/EvnVS1ROSf5GCU/Fc35WA0bIzcwnudPAYz8Fw7PLCLSC13t8J7ysjb88V5mJZawDEtSDw8hHKf3PgzpvUgIzXAzAVqAbKT6YEZVnCZNeEiKLyvhxVE28px2QXAB4KWRyamNE4QJlyg0I2edwNMVJ205UiX9lhPDBGF9PDoGimv9VrK5EJuoN3ORULPyqXTdLVztawcOoE7q/IUaFiwdt0dAIKd4rhAUkOwqQEA5RjKvV4AAAADNQZ5xRRUsI/8AAAWMJ+RiJPMtnEmkrqINT4U+mhReFfgBLUHZLQdHY0XDB9Yg6ZsaMxnfNd+GSktZWXcYS9O4yEvbpmPFxzihoCzqd0LEfDQ6igjtjZnYKUCnpKbrUSGZixtSwTdYLXtgKP+p5i9LVYQJTred7KhSK2IEIH6tnqpz4JN87/pQytkQDwLu7JgGOM1PemPZt0zFutJKvdaB1DQqWaPUJvnDBTMpis2Fjur96V4c1190O/jxlXC6BD2TiZL86QDen1BBihjdKQAAAMUBnpJqR/8AAAivxvfffpyLOE3owwPhPLPXfbCeEILQATk/2iuKazDZSYg4z4W+IoHEP4hCVBUFo5ASDKJNFE5TRTiJqStB8VKD7IzoK7TecdT15Jf9Yeng9Lzn3opMkZOaCY6HoGC+Wr9PyL+YEtvqFGFKWi1b4EdbZyRjh3ZGvZRm6srlH7P8r91CiLRi0XL98oMbMLmfA/ic1/00XjGS56C8RgvMSm+tdgW3+TyxuZtzjcHKORiqX09EFSxWQrh8hJWyuAAAAb9BmpVJqEFsmUwUTC///oywAAADAA2S/jB+L6AD9PAHto/L0sIlBS5BNSxzCPjLhGFE+xYP1d5k8DlV7548fcVrxxHzYwWdoI1d9/duF1z+Etm3asmY2DKTl7KNMdLyxGKwnJthApfbL7na3aECHk6nm2IRUyzsbWf73hxafiR8r/ahOUL9/U5M4y0WcKDlKIGbM4nYB8zMtgmY6u1RV+R1nyhJgZhNihXBxmAH3FgTuSXRNDPPmeF4Dhg3b33+s4lmXRSGQkQ2y4hXEo/AMts3yuIRoA6szGKc59ITdYJbhMwO9E0G6BF64HuA87fV9drKttfp/OOVpWZdPIyTIF0KrxLSDs3A3ZkwGs+ZppSRaoGWPHb0YdL2C5nLa2Tkco0oM9o4+atBLQJjuH/bfAw4FCLjJ60fMWnuwcSMK8FHkPe+Lwpfg2Szk3/ufqazqsu7miIa79nal/ZAnM4LzfdKHhBEfESs0kEPpaH+McZRdCA47MCaLyXKF+dhOPvuzGMYbbAk8JrYpSVUSzy6aPCmHFn7v+Qo84ceMtyi5wpOsBhsfpqOOQhJWJnnv4hSHEkIqLQ2qQEdCL2zfdBKGXoAAACnAZ60akf/AAAIsfHFvz/CV8ZvDoNPd9uOvuLPXUgATTMGmqvOVjAfBq/Gy613BsZNo707p64Q7W1qn2UPr8YZ7llnEjCtVvMNHqR66zNbRUV/GK74EOvt7qvcrNMc82Xi0us5QxCcOV7O4qUiuDHmfGd+cNm/KSBokhu0wuSEbTxyitc6CsIBnGfjezdtR+mE3xDWHuuYMJarafERMQGkK9XVoqtM12EAAAFPQZq5SeEKUmUwIV/+OEAAAAMANKcpVLuHiAAuuH7y8B3foXAR4xFKSbwMF/wUp3yhr8bUszHU+geXvgu4auSG6n9cVKNNPY6vc6DTwUHcBFhZ1mNWoVBpmDdekdyHFYTqY8SK91ZP5Ds4nk9jIpuHgdrxmmyKt0iZXUM0DDdcvaxLenLba/B0tYOVtI9VlLhrGYyqcrdS7vtN2M9jFABoK4IsGBhoODy0GZO22x9aeIQhj7/eLGpPfn3z9qLaG1bftzB75asWPQq8lWGU9JbTbySJ0nusB4XEh/ahYSlb0nGhhkwsmy+AYX2pnOs2WTrw15HBSyPQ9NX12PmGk5pkdNHJwktnDECYOICJYIdbMYUj3d5wk5MPueviFyf0+8coROe/bhcKZD7Y/+GAt4yl8iI8CFM2KPUF5UJ1/5gGvG1sjXNcpdQokuLSsMj75WAAAAFWQZ7XRTRMI/8AAAWLqa46lWX2gHACFOtjEH8S7phtnyJsfJRi8FVqctDKJAF56hRqkcsWRXe2Pp59l6G3RyrK9VhAAoyNhvrc15OCDuPq6rsMVRux7gU9EyhKFgjGPgKgp6Uqp5Tv21z8O8sI65gNJG9EUjlO67YGr3UmtmLK4hEPQHnvu2rl9zl4LGblnXTlK/yk5esAKskZxWmdO9HdmL14WeSjW6fn3w160f7Bi99XhS2J1We8WfWI2smiM0uF8LBavkJbn1EIa5aYZKEfW7vfW9YMmdkqHZtdcKrmU70xTT3jDpTmmxWIb4sRPNHK8TQU0z/jtW1W6anqpGZpfZ7XNWwRIyGzCftq7SvoehRP7t4eQhQOk1VspWpKx7aTY7Sx3Psp/T8CplSWIIONTclVmbHOiVb+dkp0WinD/zSiTyBP248IQD8t4b3FXXmxyi+erI1xAAAAvAGe9nRH/wAACKsPFv1NQGag9dVGYIELOhI9j1KwAOxvr1JyNxn1DGnOSHDSa/qWQMKPj+aNVtWwEVFAkvRtXcjP5Y7xeG97uAdfFdL/RbcEBmLwT0XyshZIdT3raNRJ+53+oEpyNxzO+YjBsIGdqCADrFVbWYSbVIkY/neelCUfyKFzHv7fE18CM28q/6xdkcWW7LgC3mUZOs8Q9E28Fomx7N6FI9uiR8HOvWlKSQkzP/n+RdOm4SSjolPBAAAAkgGe+GpH/wAACK/G99R7R4BYdDLGckn2sKGAAJquIZ+qAyUILFuL/r7MHhFiNlrKcyoCsWRiXNkV6FFWLARe8sa7GvbPkk+9CEFnA8suFd7pbYSAa7asFUK0nAB7qT8gM1FM9ExLVslvZIgUJSrm6rH1ec1/5yqhU4WVHv18R87Zej/Z99KP1DW/6ue9W1dbDCDMAAAA1kGa+kmoQWiZTAhX//44QAAAAwA8+quCYzXgBLVpvvayibhkVZr4ULP86OmJ4a9TAIwniuqZy/O4l6dg12QShgYetoUzNeLpqMB1wNJq6FveBtN828VZ8Y+i6y49irE1Su3dOVwxX0lNR8T2XGoBtb7RTAAAAwBNq+hER/UscQZPivEauCQ4iLpdFEHxgqDf9yzOFQQnLXqT/qpa3ZeZA7YAXdcbZStEcdQZ22yPbUFXFMxq9AZCr2Z+jMQ/ug+0AGqJRPlLCmh1qrk5gq/169sgRd/a4YkAAAD2QZsbSeEKUmUwIX/+jLAAAAMAD5S9MX+1XAY3hYAHPuvK/lyryo9ZkNY+tDzlM1dknT234uVJN8MCD9Zgnm+4U34D7cuopb2pKtAtw1xhPdYR68Y13jvU+nVPPcrWvoEoDzmVTMqPS0ckjZdOOZF0d2+MwHBbaD9fRQhpmMh2tI3Mw6vFE5q7zrGsiu/rsLyx2XfwRiAmLmmXBhyv+MW5JOtVLgHshATocA+Ltw0qL8TdjX4laOYHYFFzVAT5RIuG+OUVpaVB9yUQzAdc91RJ+iY71m9EZXbGIiKp+CC/xht8EmcYjELwqxDx0FlfTSTdGAgtZOfcAAABfEGbPknhDomUwIX//oywAAADASAG3rAhrRAAvJ1oohkeZ2C1oXKYLPtNnL0p7s4lMNJ4Xj5+413fYfIDSu3WHU22TJQX04R8Z8cS9IOEO9UIwLRyjyHurpY6ocIayM6RYzNZnNqeZ79Y3XOYcfrJNi11JWpWaGNfJ6T1TGkG3MZ7YnocSbWNk/d9ahRhxOpJ4c2SLvQMTFUE/amRTTGURu9D5RsQgmfHmECXmt3KvnpVBHjshlXttwuRBuxEwh8UtKsTffYqsykTy8gSfq/DsXlIctcOBNOTt1cA0rylv08vkw/YorJeICfEaN9Fo9ajUJbAf21cJ9eSoghqb1ss0cGn4hZU5qMq+tjGfk+VJpEu9Bm6AtX/d+nY6wfDMiJmrJIAOOm6NvqFpPyD3N5VOPtbpUsdpMoNSd9LCLhJy/60g1YMFf3tVMGxbK8O/5QznXuPVRh8X/AUfd9bi9lJAbhjev4Z/f/ocRjLYrwEpAn7M8dobdmPXSdrpSCBAAAAmkGfXEURPCP/AAAFi6my529DlP3hAweDVK3+qcNf1aUcgBHif1ofVpYZPBfWxsM+OFjCRVaLxAmOprFKddLHGm8kWT0KmGl1Uwxzpn+Lo/xiT+8tQ+biJ2fe4RzcCIvSlEKR69+6mpIvT5rmylEOUWUd21bDOwczdU0Kl/zhq6j8KiMsF/s1NQLhjQvbDJELS+EU2+ziblA5AOEAAACQAZ99akf/AAAIr8cdPefBQTHcAFcewvZ8QM98AZxTzvIhyLQ6/Alj4PdadQq44e78CtUbvxK9iCh/qhnawbO2EG+WuhdNE+mZuzsCP7BSlY7Us7rAYPIRwZbptYHuvre+KG5MNitpVdj+rSvQV5S5NytQdgwZ15NrFdw4AnCmQ9l4t29Nbzvl77f2YvewNFOAAAAA/kGbf0moQWiZTAhf//6MsAAAAwMAsky7OV++kDXBAB0DF9P1QJHifV4Jp2D5YlMcb4Ws0zYsRU2UpUJyr9bdqI+Um6us+yGdJYO3uawY3K3CdAcduQDi2lmzMi19I8pEnLUYqtsRYidJ+UOtbgm5LAWBu/H/TY7JzDpvDTPe44OFMiq5vYYy29zbpUR3VPYdKe5KnT6YAFpgBJNZwEm3WhBRwE9jsYoLQKDZuKGgZ0YtLnR8+5SNnr6ART1g8Hn/+fMUoPOKG4g1jKQDnHxGOV+Xod5L+lTZ7VPweWEYJIq1MrlZSSFFLGo77IG1/Np6kF6IbM1BuCiRaZSWPAfOAAABrUGbg0nhClJlMCF//oywAAAULfHwNYkAFs0YrRrJufAXrdmbZrYuAnbheSSVOcmNl914AMibpCGZFR21HiMALDOngEExhAm7wRaL6kbQQyroNM3p7P6neIIJRrvBxSiSPChomV2Y0EQSbFa1cl6U5lZ7YiEeazEt1ofsFr7ymnu5IerxLLXhEJR8IJO54x1At5r9wvSE2k7ND9Wm4kjR3QUA4hoLZI2GOLeIB75XWN0beP1dfVliZSqWN4YS09X5mIIomyRwWfpNhH/INW9AAegf8PuDdkGnTHibgV3/YvwVAAbuK11t4A+xvlc7asrPdcgF+5nS0XxHMvoAF2lnYV5rzE/V0DEk24f1W0o21KJDqY590+KLlGHdxQE6l6CZcE4rchhnyArv///nXh5IqzD1M2u/PwG+1QWAqC/Yz2uWv9f78D5P2mNyeyv+yHguq8nzomix1ELrbbXhPmSdrBqbEqGY1KU3ZZcwVpP1JaIb8Bbin5en7QFPMaF+MYl3VHC4qJlhIymnKQ5YfkXqJt+bJrsdrP6DooOBMB/U2G2lmTOm/JUjyC8d8C1AawAAAR1Bn6FFNEwj/wAABnJg95sWgC8ll54MAEZBLbfs2zczoyY4/75wfA4+pDdq5IYvkXzRMaWSxSJrp2r65pZY9JbQb7Hy9ISA8IyoHW8kPvIWFr16GWwl+Ju9JUajitLYkCVUbu1qYUO06c2WG7j1uMMZ+CBsq6GbwBWt/WTxhg8UPHKd5Z3urcII01kYf8c/9awofsCiEIq3oCTKTwV/uF+MwUisw6MH1/QRYnvck0qbN+/ICT8ai3SFr3JrhvtI4wHPoW5qXDQ2fLKazkqO1QwzDK3fSp0jckpULo+3YLsGly/iiwNh0WMTiScAm4r8IL3eCV3XwajtGrHl3MdIVDWTeBmAYFMvd8SKhHvC3wmUrUQW7r/1f4Ig5MDAqYAAAACHAZ/AdEf/AAAIqxFvwWzgvCADXvuCVECY9wAZVCEGgqoBeYk3HevJ8GQSwK7JZezF2HaQSJeLdgIpfu8bKLg2m+SBX6m2SbYy0Wx35Mow50jGTTttWVUPT0EvApLbjRM4H8p0rHun6mbBXXdbvA9jjlt5JVfzN33RS7xSWZnp/y0nQxDjfTZhAAAAigGfwmpH/wAACj5hO/2plw1ADlWHvNTQBnHuclsPLEh531xN76En2maTSdTO/Y4fkdf9+M1vYGEkC3KG3h9MQQtqTZjA2xhb7NTCrxmFXqe77/nRczNoOZ49/1c57ktY3goclMBJwb119qU+gYRYdadeZVyprdlZt7aVgK/9k33cGE2JYS3ZB3QfMAAAAXRBm8ZJqEFomUwIX//+jLAAABQvczVXw4ZMoAcb1G9tXBPs2MNZQTOJHjmV5LCkarPnOvLbrGZAYUOqQduWT2ri5awYVkpJ1d7hSyzUV0mVudGpkWoR66IZVOe3IC/P5MSUsKJTBL34XPbJruOlfUMosw03jBKECWQD4Yt4UGXTpGZGnP0KfFUienRu0XTw7RUNJK8g3O7wD9YyerPE8xIoxy8DAVMpHmXxF1Lv/ROkPzKHHdFDLFjBpVrMjQd4UeLQXGpSFvL6iNHB+IC4wlp9vIsR81o1uWM61b1ZXu1OXTT80zoL2jaJPx6xTJA1cYJ9KrBJV59GZmAff2x6J23Z/DKLnna2vLBFUZ1ahPfJWsYfrF/9k+oXrIPKkxNg4ndwnoUkIR8VbYU39O1k+g+MnjYRbH+pBgdu/6nmlLhamWMhwIX3i7svLIN7li6jVS/9NN/8o+0l0vDHiEDNF0lOUkDJgoBeqGqGAnZ9KqG30qTk10EAAACZQZ/kRREsI/8AAAZcuPmKAFh7uxzrSyvPdNCac7VmfI61eTWRQFTzl8bLszOwgDuuBzb9GXpLi2NyFIhuKN95BMY1H1FCg8olrktwuXlY8OpEti98rgkNwq4hGyUb27cGUqaX3y0armh96OZw+X3Gmm9toXF9EfNjzq5jpAeT5JZYX0kk/WbIZHBorQzqQpSMU0qJ5FGYivERAAAAZQGeBWpH/wAAGc8h9YxdRkByKU4YlWZLK/Imqm40kj8I2wv6W41bk4m5ajTMbEXj5t+LaXyv7cyGnZFW45cSpX5WD1qQcaH7X28vlHf92NEihek13KOms3rYAWo7G+VLTrC1ezuhAAAA30GaCkmoQWyZTAhf//6MsAAAMFrT5YpBbAA2hf/+/tbB8vPsbgN4c0Q9yJOBZPxK1e9/MrFoL6YjO/splahXmz46udVV+uOyumiaGE0VI1kwKtX3P/E9o77JnCQmjqkU1+C/+rM3XAMG8fRk9NVaYnGA5wvtjGUw5QweZY2IXXoGlScyv9qXAiu++U5OQOzLG5MxhxojQYnLT+mjipSwBXNL1IwabO8wKhIC5AmF2t0wiHeOa6mAnlGCR9EmzfaSeL7FXkK7eFCwyCQy65coV/Qd/bhJ7aABqRzGAftQUgkAAADdQZ4oRRUsI/8AAA+2mAAUI7OvzQS/RwLZdt9O4WAKRD8oYUifb2shpX9QnPJepDYxqmr3vem1nVIXbd65oYS21QhXOpSPj4PoMpPs+Y9Kz4lEJs3BrOpu8XiuV94PbaB9UonwXZ60lLbTpsUYAM4nBHf+rac7SnPRA12PZTDVfM1j1RPLofMHJ0GR2d/Jhbdqiis2W4R7IBy+3n+9rfNgdAXFBqWbl4aWwIO4+tm0YwGVoOuohtM3aJkHf9846y7fCbIh8uZB2CiBWUm9KH1b/3h1QD8L+nJekBntDjgAAACEAZ5HdEf/AAAZuCkyeQCygscqIE48Rfm8Cmsi7ADsn/nruD14+0qE2GLkUdRYQ9bqP8dEz2RQJFO+KYXCXuXvcA5F3NnOJTxORUi1vdMZ5aHS3Wle9CviQr+vOgl+ww9a14Skv7PfcUhT9IC9AY1vQaXVFP37Ed/c9iC3dISP51wm5CpgAAAAfwGeSWpH/wAAGb9i11duVvdKFuKvHe0z59TFEXB64KIALmpVVQPy4Y83qc45+WYwHPTvQtdrMc2CdRVHtQTDXtZjxkSUrBLnYDJu8Qaefoi9aiL4zocTHHi+ERGxzsuRePsU/kp0Y6kYky78pElem/AOxDR77+6IQ5sBwc9Z4EEAAADPQZpLSahBbJlMCGf//p4QAAAvq93WkkZy48qhdIAJnQI5hvuL8ITquD0PO1kKAWE+HegNHCipuNa4NM/XK+c67/T6GRnLVaAG5g+4Y/ye9hQtyAQ2k68d0WpnDS5XI6igYSjatlQAE74QP+x1XJOS7vUhTKRTScyWwmGhhqvqktB8kW1tqsQDbDdc9ZEHzsaGs79EofYzH+8fNvT685K74ozWtGEGsap4dpbl7PoRK3G8D2pTsJIOJo1ofD0r1rv7N/nJVo7LOci/Q0s+ksyAAAABVEGab0nhClJlMCF//oywAAAwXrdufGWgDy1msR9/ChHABl3jq30ZXFxAi+hf/ck1CgABk7u0uInZjfychUkxB+zwfS08pTlev2k0wAWlsItRRN6Lmu6gayA0TwMUTpDeFplhssULKAxpL2ORB/xGcBtUO+b64q67TaRcukf1hT9wgPrn4mTocnrjYMXU+q843FNPjXR7n7Yu2AlPPT4uFubC0ULjND/C9Xwv0cwy+CERhV72uR75XrKh0LHXAOqn0/UUwsyBWbmD/C6w1xZs0xPqOfbd0dviivzrYWoLaoY4o0EFsE9abtISsiNglmLJlfOPKgA593/IlyoHJRb/t4CeRimQJvodw0/5kpgXdowj4RSl6RS8lpFAy38gkBFKo2opW/2fzhARCiaeqe6QcaeBvgO6imOTb6MpXJfWLPwkuSWhr+OeALy4BhqovwCRjurli4AAAACzQZ6NRTRMI/8AAA8v+pJbDsdAERbOgS2fG6R71ELmjBb1l1KxtitrV/AUT1oYeCy2ZBdupQgO7mVEp5M2wEgwgyvjAXWzqCz0wEkubui4uFlodDnDSAxiUFxzuepV1CsvbLioV7cdT48qseihucnItbE0byXV3IwcpwMONhLYpra9HCQ3kWdDmHGamBmzfITT0rXNjZd30WHrS5wMesFMuFZdbELUFhU0Rm8OhRqjfs6obtUAAABgAZ6sdEf/AAAYfBFCjxkmaeR+3EPa0mpoUuxb+UbxPvk5yDDI+Qr848ZGDUD/yhh0Hc0+w742wmIuCK+7nTAcVzH13hdDCSxOdaHbmA5DCKoIGVCAD2ch+GeCXbens1+RAAAAZAGermpH/wAAF9+GRiQBMphqAWKQD7jePiaDG3120mg0NZ3vBEZm3SA+ZZg4sNLD+ZFr3M8vSdT59e5iprGQ4QDGaLjA3+08buMWIL+uZDtMaSzIQgwrDLP9d+DyLRirze3Sv8kAAAFgQZqzSahBaJlMCF///oywAAAs3uaGs6mtWAZuHUguUVfgBO3g8cSBLdIjUMkdmqTkcu35s4cOmOEkG2xpmPkGGqZHsKqZxs60LVhfyE2gapEHXR5AOB+p1dbTqX4Xo4XhCNCTZlSVz45Q2KQzvHeJ3fzWrQhrqvyYZiwafr8ucTALU6LKYU3dY/mcq/UNxdqKbTO+zuSU7Nr/fgU8+0GrXtfA+dERCfQHw32KApUnTALhC8/v97y8e+gd8lgG1n/mQevvoad7ZHCMMpe5I8tX1mgz+OZNCUGCAWnnMEBqHM8thzfBJDXqw8FSQfkn5Nulp73vuCsOEOWhyXQwsbm5pBZcVaoja9gTyUPllnGGivfv4fwo+Mh0aOzT8jbiK1poeWXNQhA7XO2hTiZHtKVfXvDCqb6N+Oid6hgJEUqzOvEtM6CJN6EVO41Svxmno0faKzQVxIjXwJTRhMo8E7iZcAAAAO1BntFFESwj/wAADoW2QwBpKtTmwAbKcuGkc7WknylaWgpORNVn3s2aiyRyTkBjINEsc+Wwok0deOo6rYfAh1d2koZ3ikFcIBOLz6FjKTZUQL2r94FXNU80tATka1JgqJHXbVR6t7O8H6PF6l16kcjC9Cswjh4/qyWxA4ZNcTCgvzyi3w+8t//Mz8l8dCLKNJ6pLOkTtl4Qe4+kKAbMLMLvw1oxGC/hvhUWhXflaQHCaYqXqV5wDCbM13PVm8QPJn5tz46nUrs7k3IICG4pMEo0APZ0aWZYfZLfr74ddZMvYsZYitS2n4TJeGtTskgAAABuAZ7wdEf/AAAIqj2DGWWmvot4tuIQAsMwmuZxL79mmNzLOx7w3KRrQqOA3PYUMbdJfHF3xfaWUIQNp7E5yFbC4hC870grvfFiCWVRdicA04quRXRPXnPhrYm2o3SxSwgNyt4dhfJpLbJr+MN1rDkAAAB4AZ7yakf/AAAIUZoQCyHWOVHOTbBm+CdglNUBM/NZUaTUGTchkrS+BRq0+dLvD3xGzXt3YvxFDJipRf8IVp28sZhNbYr4LCnZ3i6+yTUJipvsef3tOW3Qqo31z6H6nUIIQT/uaAfUu4YYlw7jUwznUdW3dqx4V13zAAABTUGa90moQWyZTAhf//6MsAAABlvW7bXm2jibaKIq3YlOXrBaKOpGm2HrARC7WRqlI2XwvAVwRHpme2GzPBTynZ7CT6X6OdCxdWp6T9gFE7+9LkdMUnG30AQOVT8O6knfz2uUER7ORgIbPVNApWsGXDFVaTOflxT8uOYW8YeqzMpAqp+qf+Yseg+6riNi+2VlPo3kzaJhNmbxTEEZ/qqB/jjDOg+j9OBbXnBRXGaDQ4VNlSzsw2bQRL3YbzM3WxMtTnoiwcXanr3XCWy14IlrNW3LrJYj9fAYkR6Nmw0vB3sqzcE2l4PQZJLy5e/OiQYFQnI3O7T+fH40UUg1MKmznNh/+Hs+MSNZIybRwnYNNx3fptSMYVnnYsqTAMRHneGfPcmDMG6s4IQfPlLzsfiYRG5xy73gFSUy3fZGl37ygA8XwBs5lB+8pZs5cfBNJAAAANZBnxVFFSwj/wAADobj4WUsgXSX+WjRWHZDnsmflMAN1fuuc8x+235bDxOKtxc+/RtBxjso1uZyeXpfhoVyWFfxQicQ2TaDvdQebO86h5pFPXoBwgmky92iwj4jVGTSgwIws1LqIiyps1TONDZHjWmKydw8GkCLUUpz22E24XRcQB1E2jRwZnyGfBZl7sHVEeqLXtBfohLQBsRC1R5f85wgWmYs2IJnvoCatYJKSTV+DpEtGfGEz+uoEgpSbDIamJDfH7L2yZ3F2mYFQx6TA5KCDuiijumpAAAAXwGfNHRH/wAAAwM3gCChWuYh+NYvJJqSHqENiJus2bMRlYF0fJVEjt5ci7mzUKWcwnP6+m1jQySpKZFUFEYNGACtuTyvnjZ8Ad0gdTrtv/CMW6KUDVqAD0sp132JmjtAAAAAZQGfNmpH/wAAAwEtiP21X0hwD8oK4MhcNd+maa3JwuZuvP4BmASwdhY8SPiu3Yhg8GgBJYGCN0SuGeT3KA30ofb8fIuCHLORbgsv8vpU6gSbvmOQ6Q5Pc+UcKdb7HRwOFIlVdJRPAAAA0kGbO0moQWyZTAhX//44QAAAAwFR9YUtpG2jy/lfPoxcdb45GIAIg84GhkwYP1X6qyXLZDZLmFeWEZyfkdiBSU7ipsmh2nkGV5NqeWxr/P5nWk1DUYmZ0jM6DK9Oid5SABs0lVh7pVcmaZAoclbqwPgTWPz3EAgGhQQDYZhq3y8nM0UjQjFTj5HMNGmPZVUE0kQhJs6FWGzCcnmz3/ayDroaaBcuP/CDjTy8E7yEtz8r8tp9bgZ6yK75Qjyz0SJlmD/ggekVARfvcMqBMTXdMnUp5QAAAMlBn1lFFSwj/wAADobjujxJBBzg/czP8pJ5QCasuR5DkMuMKiPcVrd711ti27WOSzrcxcTYGoWAXmwDp/87cnmeLQiu9/PW5Ow/+UnFpvheL4xUxu3nKnbsrKwzhJcHt3eXDMOiMBzHA41bF+v9mpxDO+SyUWTAMViK8uVKbxiPDKEqpGkiUkDECSqabFDR/8qJgyEkOyWHq79MZ3EUHYqjL08fSMI0Xu2Zje3Q5QHi5R0GP1OSOmN/ihO691vzTSA+qYBZOOZC9VAAAABdAZ94dEf/AAADAC1ikwWErVpOWTcbBAwLEX86qWan6AAWxEBMbvJeV/oDGMM/dzteTcxNY17XzDwx2XFtQBxCm9x34mR/9AirWY16sy16cmFqs2XgYAgKRlXpwALBAAAAZAGfempH/wAAAwAtea5WNNfpmpeO+zdkgR4dFHNUUAxdaqp5k2Zj35jpQAJaraFjWIyT9QOpgM0N+IiE/ezoTa/aBje6AVsjrwMvBfzu3QD8V0dHhWK6cwtt3tk2pQvsrP2ybPgAAADMQZt8SahBbJlMCF///oywAAADAA3ish1hcACHkwaydfE1cgcNvv4HFpmufP/vAPKxPIKL5V2BJ1h/o4FtfLIf7rNxqWzyTwmW6c0VFz9KhzejLFrMDp49F6bQ/w9Cl/NvOG3qbx9YTvskDqK+f03rJ/yV6D3X+OaAVF9xMI9S2isKeM8po0bsxr9fnGCEmjV7NhfIfip2AOmgggoBrMHavO7Ev5G8bIY1bAJQG1KHObnmYOjfm+v85jRWFnmlgACo37wPWPFOT7j2pTyBAAABTkGbn0nhClJlMCFf/jhAAAADADSjLzABEHnMzqb0wlgBDwDLd/7Bw+4hZKbgP5vAJ/rtYQrx86IcG7F0q7qxoy2W16zFEv6YWGTWrgHSi7JWxR5WOc6j/57jaDJncOF91+n1s+20aJPOETODvSvarFogyJmUXmjxN3nr6WGJvznFL5o6GmS1Yw1oie9vGgKazXaliY9kJ5CSvbO9S8jaKdeq7hG0VSD39Ezsg/uxXuCmeOPe1WvC3ibNJvjtAupw6REIV0OuYYf+zdwP2hh9q1OvCSkl7oVHzFVXsudy+Fgw/EPe5N+GB9xKEq587KFM8PD3Pc0Tdi+S4bFv9Z6Un5HacIrpRnat41JQ0ZRHfsqe8Q540HRwgMQZTVky3TUW6zsMyBifO9wksM+2IhZLYhJ3JRJCW6E07zjs2AD6hEngBmA6bfLfcaQTP1cba2cAAADEQZ+9RTRMI/8AAA6Ftl0iDCDNG4fXAAbTpfM9CstaWyA+zz0QNFxsmvtDO1tM/hsb0sLW1kKPhaxVY7Ocy8yIfQPh7OubLjasoednp6BFnPHtCclDqF/WdLWnrMqsbcDwuclJeKYSOXn13CpiOwWnb8/+lTtU7G1msDMfC5M6nj3euEwXdIrtIMUVzPoUNaTm90qwS3bxa69ZhxWemIFFreC9EtKr2/5Eodn//ZOXOdilDHgS0kzZaLA6S8oSt7Ktf6W9zgAAAIQBn95qR/8AAAMALXmpMkDmTAAnV6DYZfCmsvEO+9vCpvN58cb1wUaXMoQWAGKy/HY1iHDOEIjMarQrwHRXnfG5y4A0iHxwsw7NbRItQBtx1g9ctLgyanb1iQgzOS66eF//m+G5zfmsHt3xY3vXEv7bNZVrnCH5qR6F60h2d9+9dHd+A4QAAAF6QZvBSahBaJlMFPCv/jhAAAADADTUk0BGjABOdxekcd76NJ3CDEwu1IpBOvkNfJpcXJhmvx7QGijgtBenTm7Thwbu9C8he/kDYlGaBiF+YJp9tBMe4LnzjXLX/9U08JyQ5JWZVDAr8GvC2d5I9t/w8eE/QFXI9GKEUrpL82Qubcs2ECb98jx9X+aXloL5zspVcvweG730q4sU1deoJmfurrJa0Kn6hFkdPiDf4m0HD6NOrbh86mfwvhxnQ8nB29vT6cUVC/1zT9DEqP1ao1Phj57jscFBfE9xhwcmsPaPhgW/G7pucR2tn69afJmI0t825Q/B1ej/+SkzcFWEC+EB3rMqtslF370VMqFdl7f0HWsIe3eeAM6TXE7p7lfb+TaPwoqWtm7TQWsB7pPyOjTfGJcT6n3KdWNrkDcapnAX5XxTdCzelBqsnAzgtfSOM1K/3S0+2dHwi8cFzaTo0kleKwwg3BXlQPw7g1745/v5Khfk0EglnuTQNzC5AAAAmwGf4GpH/wAAF1IH+okaJmfaQ/g5Ko6UVoVEPcQAIdNiQDwgpTgw6Uogy4HEfM7zbBBeNvXhO7itim5bUHFsSAbQXLlAcKY1/dHO76lI466D8x8PidyaiRAJeAJ4Ilj/sVbinM1bgs2sRmY5MK0TqF/bVWqlIxByZ4AB8qLxxC8QAP6hAKVx64FvRpEXhIngAvEvGyx/jrwqF8iwAAABh0Gb40nhClJlMFLCP/3hAAADAADSi7Z+eTgAtttxnlYja0KY9knmtLVqUGIKr2Gj6OA7f9YpYhKCR/vrs5ozM2lcdqWhFNqoHd6zyhXMcY5xLasm9smDdMSF3p1iMYXugfIULH7AXCvjHIQn6PuPwc9zcZX8z886hEdDf4TUMGludx5mEz8j7sYRETn8Dd/VRDXs7u8uB/8fodLdue6o3MHIvuBjSr7ND4oCsxhoD2nsb/0XcIP86hcA0N1W/T5KhA0+5Zb1Pl/W32xYMYbrxyLidlGqtRWH3oLQOfuJNO3I94e4Ybdaw1drD9j1qLHLdsc24tp1udj05IkKXZvyBx0ObxmT+EpiX407hiUfYRbducMCBwV6ozLde3N9jye0vQeftIglaw840QHqglcYiOLa8Xyq8BpdLW5Etu3iRbzGdb0zVUAP4xpqBgLhHtgMQoYTln7UhVVnd2Qy5b8+hWspxd2l6MwNu1tuYH1knEo6zXxkUHBp89G7pdmH51yBcW1d4fKc2X0AAADKAZ4Cakf/AAADAAcSacBl5+vqhk04t9+fdxAAhSiksbX0OxyoxMVh3b7uHQpAlouewsXzHtTayee+58QaI7pK4k+KmkiyI5ScLcicv+tOfLFeW0qwruOALOng/06zsaf/L5NrfAcG3OhHpulJL9zlMiT/w3N0CHYfI4quMOltSsz+U25vHHnKbLywn59vXJWQo9hzIuOmF9Wsluat6gL8gRY11V19iWKu5dwv1YzcjjhmLQcWCYc9S46wRe4gAUuJ0zFuKSW/lR3svwAAAXtBmgdJ4Q6JlMCEf/3hAAADAADSicpPNVOfbCAEz6gZi51IkwjKa4mMPUFk/QEbbEMrt5cAKIk3dm2ymJNBXj1xBP88p1Dxk+KGygApUeQeaIeKYNc5PTSQkq06BxyOja18uT6JES2pcS6jxBecAUFWzkvm3GeacHvDiAVtgp2ijNidjuzIZGeJk4+NbGKDNv6XeqEmZtDpDKfOyoxR+uSYnTY7g3xpSDwfmvRctytP3KSCYYSlgaUgSqW2UCp5NoaqfjRdK/HVyFqtzaJmcIrACXPwXRztQgYCQBgMF9INPU00LrlfyU/l1vFO/hgYIC+o5Vow3Kbqp/rGQdmHrvumyyV5fIogCq1gLncmfV/mlnNZHK/Q5xgnv4lxcMiJuVQ13NO0UDeh7erp7Tc3WHXQtHepGjUU+DAMRNnr2RqPANaEPlBgFW6wXMiGs8ym126XAJHVRBUmx6WMhLI0cygwtRjjyUdP3j9tHX7mPXvq2lA2kmYi5oh1rmTBAAAA50GeJUUVPCP/AAAOWC3fC3mvhbPOYAEPeQLsFozLwW8rdR9K0XnDd0ReFy6MuT/V/tV8O4in82kZ0CaTaMPGH/LA4GKS8G4scAPILSLPYe+2HzrN/mMyVmE8Vc2wX+I5J8VXdQI0RQPK8t62kC4861jEeu4YTdaGOZn+/QCVQGRZGBwVmuQc6I+krCa5O6VySGBFj9qStI8CJa2swEjIFRhTuqMjk0WZyYCGSrbKQlghfQVFHzye2Qwgn49K14+W1cxjq7OYMnvAuLg3O1uTGONw2IQHp0q9OLYwJ1j4mXUfiYx1nqpogQAAAJ8BnkR0R/8AAAMABxIdWxN9xwE6/f+vTQkABDWfKODxJGrrs5wQgIgQk1JO7xbuVYI9MDzuWT6NfUJ/giq/tYFnrnAH8gc+cpwmKHI2/C0PcJA3Es0ZolQevzttuBLomPx7K2iEKeJVo6IfDpEowgDcIJNjYSAqrZJ65V93car8Gu29Zz3YyuIIgkzgvdgNaFJWe7RDMlD7OkEbijZya50AAACfAZ5Gakf/AAADAAcSO0s+LqnFUyc5TZXEsAD+6GXy8iLg5bUTtBwqSYGjhn+GbU565io5c68emyIRDbA76OwZFVaFRiJ9O0r6jeq1AcM5SWJMTa/ji6LwuDpJ3v5eff9ALt0Iga0s91tmWvTHpp6vVMojfRYGpVrOXQ/guRJIRzezZoQHJ0RsEUzxN9gGqcskTN1oTl91VKOuBoSsiB/FAAAB9EGaSkmoQWiZTAhf//6MsAAAAwAN4rOr2cWiZ/SgA7Qi2BdnZFz/gCD3nmpek32IojLCAUvq2DyTeYMCMQ0rDMcrp5cejpRD/2T8Qm3T/hCw5b3+pQAd9mwHo3KmAIaYUwXn017m2Iq0t09u1NJvsMJEzLS+byYh3VgWqgFNKnP1LcRODEK5aIUSCOwq1CKGi4dlQHPRuMPvO926fkRX+BcBWGKKC4M+WKYvxoTfK6UT2KfClhsRrXB4cqYZPSMrsrAIjrVERMKHtXpTbK+qalh+RntmtUBK2goxOKBttDEhkiH7cyyIPhPpypFXvU6yid3Aa4qu7JmcsQ3KsDDNfJg8nAvVKH5TS85rjTfXEeU45CYTOSSg5Tg1JK7ayI6ceBRD+tXN2gzTSu0exYLqb8B6HcSAu+1UVzViKcOKCRJS249LfiTZdJxC+4fnVFHFnxmG4W6bhzSWLa7GkmJC6tOGR00NDYCFuSjB6szpidmIlBkf46++Bdxo7xQgNTaYOjm5y7i/1ThaWqGmSKi0yrelpDOeiHWJCdxu0Y0gmI5oh9fXstJm2AWLYw/iAxGcQMBw17dgeZUINzKWqksE0/pbsqOBj4zehgk5eudgANtVDXfGkJCSqZZV/VzAcDF5ozkoupdl5H+hyEc9sRyNZgVwrAzYAAABCkGeaEURLCP/AAAOhuO4W76eJU0ZwAF8Qw/gfGI1RzcF7RJ022yEm9SYbneTwiHl7Er//jewJjSZOGyxy01/oVN/NYOeeuUYG/rxw0wPVTRfUwx45T6CFiuwqH+pvbRFIHcBSUVNUi8UA4kzTUlEWPE7UQk/hzURqvb1P0zXkp2vkb4HgyFARja8pwN6elR46BOXlKc9f9x7hGRof38lfyt1F3MTh4tacaTcjxRmUESdM/ttz1cm4RdgUAFP0Nx8BU3ytrsYhb3liiOToGplbB1jkbv2dyrtf5Xqt7Y2uOPe2o5yZcULpl58dnQhfPOSn77llUCrcAIh2IV6FKPQ1qSgoZM/qCHSQTPQAAAAugGeiWpH/wAAAwAHEmmshveP29/pdnXZqoxABDZkN43jODXWx1s/KSYA9IW0gdTjJ1C8d2HWrl1uNhEznrpCjy65QQbwT/hMuiYHPSnA+a/QZm8Ahci6I7g2Q28Uk3mV/i1ri6qoPjm9D8e9Tj3XOWv2SjLJ/y12dtYMAL2MXNVTKkM/x75P0FapydjQjRn7USk4HkDVfmV5EsyJvpqevPYzupOuphlxYhzk7yULnN9dLAE1tfBEFfILrwAAAWZBmoxJqEFsmUwUTCv//jhAAAADADXowaoowQzABUnCeSCqP2ruDnUb3wtXpuglUrv/rkHZYzkHvElmw+kKlIXgMal0cA1uvyKUz9adkC68Z2fEOMKOYGU+IgfEmIKO4bxAXPELPSAe/OKVBJ8svOc48Z/DKuljSew0koN91q5kTLbE++ToarFbUFnhR02/DINksBX2F7N92sRv2Zy6WFh6EbpxEA7Xtjv/FjXIFyMASO6Sq+KgkcMiMGhC1809MvndysmmiuXYVHUk1ANtFGP/oyv8ZZiCJ1hGVocN0KpGUF1oaAf+38UI8oI1NC/Tct9zZSn+RFQpVzbdCqWrjt/9nGwvE3E9EfGpzz0lqXSmbBMEZHYlAVJj5iExLRFDNBUO0cPehgGdl0xmaVTE/cAIe1W29QAypJNU75y5Caqqh7ARccrVj1TDxFGJQeO0NGT2SJwRJXeKyD6jXSWpMBhGC8/n0L74AAAAtAGeq2pH/wAAF1IH9rfhg7KOYAC+r9Ocz8TS8CSre0xApCWXO9jowJS8QRDvv8pHNR5H14ilD9S2c4IvDHaTqvuj3Zh7jfQaxcaxv0P13+4Tw7vtm6KWQBjgfNyPtYV4iykv4PT4jUhyLqj1E/rfOjrCUASSwRxfMEYFiCUjTNQ/YSCGm6I8KdWnMUtF4rl4R3cn1mYk0H6wtDmUwjYEitX03gFhHdwFC1YYnNnB3xZa7WiXIAAAARpBmq5J4QpSZTBSwr/+OEAAAAMANegFCR0E8AC+QyJAlFeVIkD966HeKQf1Jq9NvLArJ2SVETruqdK+GdxlSwxGol5Yp43DvCwG7LVTsm5NIzU92xMAskll/pDLjcLp9gbQSJHpqu8tVv0ejdxADBjuxzJZ3ZcQA2ru8yOszno14aYqkbwIkMpq5e/nXooTbSrrWngzGkEoWoKO3QjUy4piQSGf+KiJkpqrYHPKmdKMfbuBrPsZhQ17sR+CfKfn1Dzx+MWJ5ckPCO6PZZDGcPHDWfRq7PS1Um6ciGQmQq3K5sfcDxk6GL0nFSGtCpxwJmU2jTlFyAFTsAsMPfpFlKc9cpT9tN8XRWgVLWkFixIXMkUQo6TlPPmFid0AAADEAZ7Nakf/AAADAAeZ+mav1+f7A1XYCIc6mEAHeBtwMASOVkEi7Q3sLNlviYMYJpILoEPtV3K6wYnnQoYWZNeyjOF0061ZP2olkQADqwxhzYCJf4JL27whG4ytQlAB6jXKJIrKMPYA6ZzyEij8TRqkLeBClnDzXgfL6X1UBd5uoBwPkFUDb1OO+daoJZgzmYevzgYFGsn+bxS+G05EB+66JoGMfBuJxgMeG0NjbcIu3MyjLENItMgWzzrTSgVAXPs4xdAHgQAAAR1Bms9J4Q6JlMCF//6MsAAAAwAQHjf4KO0AAOC7RmyfXDzjTdenMZaLlZ+eZQRcnfz9zNsmydWhcK+euuvczbOEyApzhYtAUI5V1+d5H5hTpqSkn8VCiKZptv9IDrxngmnJRhs5K1Km2w7aYfYykY1y7NfRxvfv9rrKao/jVkfz6oTXDAKMvt83yotI+Kzhr4Dz9QjRlsso4DqAWy8xm4lJItd8hVW/fHRZcNu0K14r8RRDAiMJSeewb+0PafslEDfazv+EyNxetGRW/nA6p/r55oiZA19o5/hlMlW096cEghTIXdCYjkPnlYs5Axi1pJgLZ/+Ydq7wE/wZIlameGBNK+Bb73+xgZywOedyUu5JMgXCAyrOHa/aQGUNAAsAAAGhQZrySeEPJlMCF//+jLAAAAMBKAbesE0KwADaVCqNZRT1ivs73tWo3dBxti+/h31R4f71o5XZ3/Ht2Sdr1n+LvB+tqqvu0bfXilJkmgXKIdebWsy/xAxD3gzSjp9PxKJHtz1NJ21satOXQP+nvVqW6Dk/0bph42ovSMxNt/2dsAvJDAHi8rHy5ZZgcbNZ3lKe5JVvDpputTM5PCADl5r1sH7bQ1Q/Hz192RRsyJ5hSlvp9ypX9RYxO0aat+JSUpuT/m+btfgu26C1CVbY6R9031MUij66M/skKbsJkOqhVYvyFbSiinKW/VDFl6Mw7VhedMBYvZE6gl+KeVKFJTHRiVW/bxsdqo/viiGBvpaAbL7AkLcN12CDPlChPyfN/0kQxq6E3HjZu5wlGl8wf6bIEpiyp1z5AaPQAIjcj4/BVoBcrftJPDcbBP6oenBJkZbz06dlshrWwk+4LqBYGTH9ClCkD9i3qRe74z2OZmQXYilO8j0yVeYDufefd42zg8kTcQv/8kQu93UJQvLQN3Dzsu67xAxoN7A6qKv3BrBE7vKAAAAA0EGfEEURPCP/AAAOWC3f8Euu6yW/nGLdvNdKy5ptAC2WtEEwOgTyeeXXy+++Lw6NzRFhT2NWTXeykmz2qrPtFrW+DPhPIVZcaplkXHK1wH25bHpKLeD8HdXkAddDRzioY+Srh7kgsenALy7Z1+EreuTUmiWMGAzzoQn+EhD5SWlTaYU9n/AJ2F6UmmQ57Rbughrr5Pxl/X1228ertFoqnq1YEV83ivqum7meyxSwH3RxnlXVeDlJSw6ZEt/tDNzWAFWN6jb69bxuTRrudjFnEHAAAACCAZ8xakf/AAADAJb8EBvwxmw9cE113vod+38MgfU+xcI+Pw/4mnGRyKk+wzOABb6uOuSos3OV2TvqiUfMXX0HROvV6gTQkJBRcMhPunK1/9jSdFlVVB6LrsYwsy2RdVT6j1eD8FjSiaN7fRCOfm86yuxAngqai52zcrwskZoUCTw6YQAAAadBmzVJqEFomUwIX//+jLAAAAerWmSqop6QuXABlz7HoraaiaB0h1tYPbhd+//Vk/u4zV6t96Bgegpk4jXgZlnhS5fz3BkpOlbnO8IWlzI1qPN/iOIbjpzrgrQ2LpbsMhjdWA+QbN2QJhgMjfCNurLkE/T+2cZx0EunD/cGQAZ1iUah029lQnl49ap5VD+NlfHTCXF62EfPzbnWTfQ5UaLutZFVu+axzDh3ajMNaNjkzGOg8xvluXeGrCfmHUN6BUzL/86Bm6bR0UZxcLBDjsKGbsSfFDE4mQ6EOl3olxYMvLdYdlTgWC119pz2MPwgRCXO4B8hu8IOT3hFkQ8xUtdmKiM/jTSKdUQOTeN8m68nm/MIyqUJlqJdzmbSI2o9A7/9kwMTyW49qIQtTDLXOOVHjbZC2op4zgkpDeH1mEOA5OJ291h/YCw1x0xvapB5YjJXrtnmb8Va9AL+pymFxPqP9/rhg2wkaKjYAyHKXIDUFymY8eJNClnWaw/gxQACf+NZeaS0VoXkOaGKWvMff0eJ44Anjste+cGnN7P02OZe45xhPYbee2oAAADSQZ9TRREsI/8AAA6G4+rSei4QEligLMdKxMgBbgDpOG83OR0l/UhnirJiWsFquulz9iRtIaDCxr1OP2WazDMmsCtgFmmjiYHYKq17+GyfxUfKIjMUyGmURlOz0jmdI2b5lekdtV4PjppIMA5hN378yBe/OBwuyX5lNaTtuzSiBiX6JK6+2Wh5TCZnCz1aO//E0p6ao36oWCFMcok58ltNiHStrHnUWWIZm1k7e5U+VqYgovkwO9KAq0a7eGp6UMOM/0Xq2WQjSAS8q9C3zCOBVtoQAAAAhQGfdGpH/wAAAwP6+TANXtQYMuB+wGK42XqP3tXrdJdttrNL5F4s1lAUY99LWKRNiK7tmfM++OxQkI9W8280dhEsAFPY6NewDCWj4hL2B7Wa9Q8/93ubPZarfwxvehMa7gb+AfJm5QAOPkt5P6aAoq79ozRFGPxQ561sMva0hsCu3aYaNKcAAAGQQZt4SahBbJlMCFf//jhAAABNuJeBxLHgCNVrW10ubLvvL5iCgZWa6hQw0kp5Ih2LlwAqVX6XZw8PUz9Dgm8pkWaWA7GPFDmDb9T+9RPjJShgUGo1tQLm1asqITGQ6zoer2A+OjaKYZcgyBKxRE6fr993c7buah4QU6mUAkXDE+tdsYVL5+1uPvsPU49nNbc4rUrPnrfn23EYS6Q0RyTSNuCRIY0FeC9HE/iO2Uk0jAwtrTjPW9MKbABe9QQYpebO4idxCiyRN0r/unlmQV/C6DQW08aIB4X0q5ldzkEWQCJ9Po9Kym75CM2UZp9POFxQgoPMHjk64zODD3ewbffYfXMV3oCwCjuxhy929N85hOoTS1rMcK0ggBYzOBJG2pMh2piNM9NvV7ioI6bxqAAL6jytTnmD4WdxxRFBW+l+WEC51ant1MBbR483iuTCUNEfmxgjRrmGQtH7EFVOlyxZFWj22u/qhDGMJq4y5/tSSVbL+5FNMoB3V4CIiic08pViDzAgZbW4krQHPA9IvV8PgAAAAL5Bn5ZFFSwj/wAADobkXqA1QDUSgNoHpi5FUKiTO3MpDUaGZ4FChV1o7XTJFu1Fw0ZclqA7OiOf6Ol31U5VC3XaxR7TNGJ06U8zjWJ+xuz5o63pumoIpyEPNaBImYoRtGD8A1DhXQzRUzgIwuzAERJy/xhpm6+JJF+hXI3p19L+9HJZQ9a4YNPjC2ch6+N1jIPPQAhixFGLDM6OVcpEGieA+Lu7PP7NLpnHzW9/A0C1H++xG+1CsXnBDfab5jt7AAAAewGft2pH/wAACjOi2uopNICbjk2E05yVREY2emJxrENmeryG4HrQ6A67KfJNEbdAOxmunLAxZrIhbeV5DNCf2azHU7BNTALCLKO631ig0FQmd/IUUh2DHgzAY9rP2RAcdU/TFyuwofX3kAEvL4gtODinQH9FRlYAs7UpgQAAALFBm7lJqEFsmUwIV//+OEAAAE2+B8i8pRT9AbHockjp9O4mNAvq4AHJj02SG9QJlN1bkK+/6H4+lbNtjLSD2D1HI23hGksUjQDhM6tLQ5t+ju8A5fcsdXhI3DmhGKMZc358dvlLgs/HkHavH3tixV1zL61kMvNAY+tEDexImhv4+AVdTYm9NxbnrGEgrMsYef3kFFoZFAJ59uvfAOpDKikT15GXkDtZrIou+Hrg/BZpZ8AAAADQQZvaSeEKUmUwIX/+jLAAADLa0+CTtAAEdqlB8sgPQQuLbArCIUdggu/HFkLaKwfmUMkM+LXr97U33VHGMkUcXdK8FJpCG/mIOVGTONoEmQpGbO7ufdroAXbMeg9oqzwl0pHES5V3zZUlKfVcwXWe9Gjx1VRZFDrOayBHJ60f/HwY19AmmBcYGLD7QQ7gEdggHaW5CHgGbNxahnmUjNm6rADa4YYXjQjZMPXMouJO6RIlqRfCvq8iU1UhqcY8aVild4eVOeKzpwsOMfmKQacs+QAAAMlBm/1J4Q6JlMCFf/44QAAAxPqR7nV4t3MbwAftr0YrvJSZVVzmDlO9aC+XZOFthOYj9iaZvpNSPhD/PHjNASnA2wjEtHhJWFsqMZQEZzP8v38VwoVB67yS6ZfY7HJigUFDQ9wu7wlIVT723UKFwdtJ9Qali/OF5s/rb7JcHPRksMymZs/ZczcuvRq5jS80ulQOs5+MjEzBHINPqTeApmeb/znqjH0VmGPqqhxjGT3n47qlUaad6fmc/s96aua4hZCnRnNDzydDHHAAAACpQZ4bRRE8I/8AAA/jjYXalxDyLkgAucoBEDiKVPqvW5Z6ahtDTCcwMdi7Wf+cDfkZAkpiY1+4mjVWOAml4nuw51amSp9jEf03tdJycQtCzvHw2QxJFk1OyaN8bN9Ff2cpKFfB4voMy7pL5ayZ77sm6C5l3lRYwH+yF4DbIzyMFp5QkEFp/enyTTLz4sQuwe6IZGOtexzbs/8gzW1Zq0vd4UaUE0FhaCkMvQAAAGIBnjxqR/8AABm/YvEjjY7XSepjTkgALhg1jRGX8iDJLJ+5yiPccBdVnpytrdXn2gqATWD9Dtdx/f54Etgkpp347BXN2ugJddhFdeQXgAbisteZcYHmXH2vtG4h4t7K3Z2bgQAAALVBmj5JqEFomUwIX//+jLAAADGetmVdILXXKki8VTbmfDPjeEAIbxX+lF7YFDkf8iXVs5uZKHD0CoIoa9xpkyxb6YIa7KF3HzETBj1dxpgbQuor0T2Id0bANJF3/eCfYoAcGNTHXc+/6atjh9Do02LiOonsFTIXkArU1APNRFaNueY6FnZ4P5Ikwj/sSAbEwZhqjT3je07HTTurauUDvpC31X0w6on3UkwEwIryeoU3eVzTf4ijAAABh0GaQknhClJlMCFf/jhAAAC6+1sta90bSG3VS0QhL5LEwAdm2YaPDHbfwKY66Q+bD6QpM41aswxk7x1M/em7CULdbnzuoBSZj9+R61o15UDppuiUXT4DMQgIdKz/JyiJFRFHn9nshIQoK3oj7iFkYzPPItGxpc+7Y5rB6lvQGfVEXzk8AGyyBhAHBnSQX945PMQ4LdDItQnUTHAvL+Y7HFIMi4fJVg9j/N+m/88MK7g+fZsY70HLl1RjAGCG4vsgO4sWXoGcv2NytO20S8Mh/dmMufzkY1anr6XDR3qO1wkeNCrbxlXxIa89y9GgTZ13HX4TWTGYiNFD7TLNd4JuGIM85Xl6hwTA/4YSYlWCHQSwlfPTKiM2wLtz5j6Z4e+7bhoPTeP2hDRxW+qksoTEe4rVjn4Q2IQKXxmz9y2ppqpng1vG53uj2SIGApkiG+VBQBcskK1+N256tppSaEkpBCLUlt717JQC9xB/zZ1/UJ5aGGNp8Zls4SFE5vgHruV30ccc+sVywMAAAADCQZ5gRTRMI/8AAA8v9I7MIBNJKwrN2hhcHqHG9SEZuWo3Xq/2mB5Cn0fj/ZfWowRC8AxSQ3Fhr4SQ5f7K8QoaDPotMkG2JIKlzw4ywB8S9qi1/aJSrUT1YEjOS3LfngbnAAihCPsJGX7vbi1nhO1RVqHXdtn+xPt3mrXmBGew8BavUTTJ0h9SG0DqtQRvXhEsbMA0FJu2hTqKFVuju2hDbFJ9AFPGcS0N+Fn0PDFI/DxjnA3CkIZWU/fq7gCsGKtoLTUAAABoAZ6fdEf/AAAYfBFQ2Yxe85+z9KiYetE3smBQrvvIktm7zXUNwLzNZ2xkBRLmvo8P2l5b7WRTBfxEUq/BeaZyF/IaM6n3uKlDxz/VPQcX2wv2NlacpxpgzYKgAlNOmW6Lf0A8UpASm4AAAABzAZ6Bakf/AAAXCIPBab5HgXR8xcRfl+6f8vWl9HhACPA09Fd7XEGtOnBkB32LHqseWO+9tIbY6NAq0ag0skIa9KOo1bsjvs08lLsW2RFtrpprD5S2xgNaVdkHePmkZk8cBlWR4iMwUUwUbI2bUG4v7YEPQQAAASRBmoVJqEFomUwIT//98QAAAwCe/N6/Xrpozsh4TH1rcoVEIfL/egBMhWILdAtaMoGGG/sm+NeKea6sxqLjX8I5jNjBKY+H5goizRhI3Z8kZx/GRzqZk5qWkL0o5kG3EFRk0HhhYEBV9mEl/gYK7aTkDKxQaep9CqY+7LU+5onWV4LYAtBHf46G8PEVQFJB1km6nmzOsg0ORs1gq/OdXMN1bUtLRXfjy0uL/MOHoRoDMYd9NBVYGUpphPkDbTo629gwLQdyLYcplwsKv27Noke4Uokfit7GZ6CksVs2wZvn44N3HvzdU/+NfXGOO8Iy5Iwe2bUVnNfgtLrbDr6Hhrxwo/n+anND3klzUbTGuPThyXALVO/Wj3FhA6g7+G0zYVHG4+qcAAAAnEGeo0URLCP/AAAOWC3sf4OgEBvTr86csyDLV0OC5vU77Nncn/hbWGrgghje/WjPp6fR/Hjygz1/9uuLxilCehUich07//+1+8dhMyGL8WFo332NvHSfrkwUvhGxDnkg1gd668uDmGJyAHiVVSG4KM2ZLhMT9gyENkqOm4YY1fcsT5KT0QJcc21oE4JBmZZWQotqZUWjnLguHjEEIQAAAIEBnsRqR/8AAAhschj+I2ZQJQqFjURSw7kmp4bUsnNCg9yxwuRUjBsJqDzh5MeACKmZBQ5WaR1buCVHf/slgNAPzHpUi8OFUuLnsfgxQeZTgc/QupozMTeLuKjXOlMl19fjE+QMS5T328i1CfbU/mvVgnlpcW8Ie2LZHwNynsFM64EAAADoQZrHSahBbJlMFEx//IQAAAMAh3rQ9c9Mgem/aUSrsU17Bg/DYASx/O6qkbWB2mk+8x3/VIigof9l3b/OJmJhgp33z/HtRdsAoZSbkvZv6Uo0OAbdXTXhvB/H6xfH33xQV3ojiRR+rdm7cWwkUG/IkVQGjbh1EGwP9peUgYDSBspnibe5BmfgqUAKhaSC4RUhXr59Yqbc4w4gXCDMkb189urJEynwRZqpwVh4s6uhXZYmV0oyzWGF2i1qYn6ltY9GLuTZawOMda7XOWmAxUSHX7sWv84NeuhgcYoKDVYVkY7tfEcVksGR4QAAAGkBnuZqR/8AABdSCBP3Kik2T863iDul9VAdKTVVCtw+Ns2a0AAthphj+ReHSiYSBJN6j2b9TGpb2krMcWBR4se1cksAfLrw3Ra49px+yN+XJh/bERMQjxCrA0bHjRRVv6bfDiFwRZqvBc0AAAvTbW9vdgAAAGxtdmhkAAAAAAAAAAAAAAAAAAAD6AAAD6AAAQAAAQAAAAAAAAAAAAAAAAEAAAAAAAAAAAAAAAAAAAABAAAAAAAAAAAAAAAAAABAAAAAAAAAAAAAAAAAAAAAAAAAAAAAAAAAAAAAAAAAAgAACv10cmFrAAAAXHRraGQAAAADAAAAAAAAAAAAAAABAAAAAAAAD6AAAAAAAAAAAAAAAAAAAAAAAAEAAAAAAAAAAAAAAAAAAAABAAAAAAAAAAAAAAAAAABAAAAAAlgAAAGQAAAAAAAkZWR0cwAAABxlbHN0AAAAAAAAAAEAAA+gAAACAAABAAAAAAp1bWRpYQAAACBtZGhkAAAAAAAAAAAAAAAAAAAyAAAAyABVxAAAAAAALWhkbHIAAAAAAAAAAHZpZGUAAAAAAAAAAAAAAABWaWRlb0hhbmRsZXIAAAAKIG1pbmYAAAAUdm1oZAAAAAEAAAAAAAAAAAAAACRkaW5mAAAAHGRyZWYAAAAAAAAAAQAAAAx1cmwgAAAAAQAACeBzdGJsAAAAsHN0c2QAAAAAAAAAAQAAAKBhdmMxAAAAAAAAAAEAAAAAAAAAAAAAAAAAAAAAAlgBkABIAAAASAAAAAAAAAABAAAAAAAAAAAAAAAAAAAAAAAAAAAAAAAAAAAAAAAAAAAAGP//AAAANmF2Y0MBZAAf/+EAGWdkAB+s2UCYM+XhAAADAAEAAAMAZA8YMZYBAAZo6+PLIsD9+PgAAAAAFGJ0cnQAAAAAAAE/BgABPwYAAAAYc3R0cwAAAAAAAAABAAAAyAAAAQAAAAAUc3RzcwAAAAAAAAABAAAAAQAABZhjdHRzAAAAAAAAALEAAAABAAACAAAAAAEAAAUAAAAAAQAAAgAAAAABAAAAAAAAAAEAAAEAAAAAAQAABQAAAAABAAACAAAAAAEAAAAAAAAAAQAAAQAAAAABAAAFAAAAAAEAAAIAAAAAAQAAAAAAAAABAAABAAAAAAEAAAMAAAAAAQAAAQAAAAABAAAFAAAAAAEAAAIAAAAAAQAAAAAAAAABAAABAAAAAAEAAAQAAAAAAgAAAQAAAAABAAAFAAAAAAEAAAIAAAAAAQAAAAAAAAABAAABAAAAAAEAAAIAAAAAAQAAAwAAAAABAAABAAAAAAEAAAMAAAAAAQAAAQAAAAABAAAFAAAAAAEAAAIAAAAAAQAAAAAAAAABAAABAAAAAAEAAAQAAAAAAgAAAQAAAAABAAAEAAAAAAIAAAEAAAAAAQAAAgAAAAABAAAFAAAAAAEAAAIAAAAAAQAAAAAAAAABAAABAAAAAAEAAAQAAAAAAgAAAQAAAAABAAAEAAAAAAIAAAEAAAAAAQAAAwAAAAABAAABAAAAAAEAAAIAAAAAAQAAAwAAAAABAAABAAAAAAEAAAQAAAAAAgAAAQAAAAAEAAACAAAAAAEAAAMAAAAAAQAAAQAAAAABAAACAAAAAAEAAAMAAAAAAQAAAQAAAAACAAACAAAAAAEAAAUAAAAAAQAAAgAAAAABAAAAAAAAAAEAAAEAAAAAAQAABQAAAAABAAACAAAAAAEAAAAAAAAAAQAAAQAAAAABAAAFAAAAAAEAAAIAAAAAAQAAAAAAAAABAAABAAAAAAEAAAUAAAAAAQAAAgAAAAABAAAAAAAAAAEAAAEAAAAAAQAABAAAAAACAAABAAAAAAEAAAIAAAAAAQAABQAAAAABAAACAAAAAAEAAAAAAAAAAQAAAQAAAAABAAAFAAAAAAEAAAIAAAAAAQAAAAAAAAABAAABAAAAAAEAAAMAAAAAAQAAAQAAAAABAAAFAAAAAAEAAAIAAAAAAQAAAAAAAAABAAABAAAAAAEAAAUAAAAAAQAAAgAAAAABAAAAAAAAAAEAAAEAAAAAAQAABQAAAAABAAACAAAAAAEAAAAAAAAAAQAAAQAAAAABAAAEAAAAAAIAAAEAAAAAAQAAAwAAAAABAAABAAAAAAEAAAUAAAAAAQAAAgAAAAABAAAAAAAAAAEAAAEAAAAAAgAAAgAAAAABAAAEAAAAAAIAAAEAAAAAAQAAAgAAAAABAAAFAAAAAAEAAAIAAAAAAQAAAAAAAAABAAABAAAAAAEAAAQAAAAAAgAAAQAAAAABAAAFAAAAAAEAAAIAAAAAAQAAAAAAAAABAAABAAAAAAEAAAIAAAAAAQAABQAAAAABAAACAAAAAAEAAAAAAAAAAQAAAQAAAAABAAAFAAAAAAEAAAIAAAAAAQAAAAAAAAABAAABAAAAAAEAAAUAAAAAAQAAAgAAAAABAAAAAAAAAAEAAAEAAAAAAQAABQAAAAABAAACAAAAAAEAAAAAAAAAAQAAAQAAAAABAAACAAAAAAEAAAQAAAAAAgAAAQAAAAABAAADAAAAAAEAAAEAAAAAAQAAAwAAAAABAAABAAAAAAEAAAUAAAAAAQAAAgAAAAABAAAAAAAAAAEAAAEAAAAAAQAABAAAAAACAAABAAAAAAEAAAMAAAAAAQAAAQAAAAABAAADAAAAAAEAAAEAAAAAAQAAAgAAAAABAAAEAAAAAAIAAAEAAAAAAQAABAAAAAACAAABAAAAAAEAAAQAAAAAAgAAAQAAAAACAAACAAAAAAEAAAQAAAAAAgAAAQAAAAABAAACAAAAAAEAAAUAAAAAAQAAAgAAAAABAAAAAAAAAAEAAAEAAAAAAQAABAAAAAACAAABAAAAAAEAAAMAAAAAAQAAAQAAAAAcc3RzYwAAAAAAAAABAAAAAQAAAMgAAAABAAADNHN0c3oAAAAAAAAAAAAAAMgAAASoAAAAXAAAAEIAAAAhAAAAHwAAAJ8AAAA1AAAALgAAAB8AAAC+AAAAQwAAADYAAABMAAAAvAAAAEkAAAEtAAAAdwAAAGQAAABMAAAAwwAAAFYAAABVAAABQwAAAI4AAABiAAAAUAAAAL8AAAEhAAAAcAAAASEAAAByAAABiAAAAOMAAABxAAAAaAAAAPIAAAChAAAAnwAAAb4AAAD7AAAAqQAAAQEAAAGvAAABagAAAKoAAAC4AAAApgAAANcAAACrAAABZgAAANAAAAB/AAABrQAAAK4AAAEUAAABawAAAKkAAAD3AAAA0gAAALkAAAEHAAAA1gAAAMwAAADrAAABMwAAAJUAAADrAAABTgAAAF0AAADpAAABBAAAAXsAAABjAAAASgAAAD0AAADbAAAAWgAAAFcAAABCAAAAegAAAGEAAABLAAAAUQAAAM0AAACDAAAASgAAAFYAAAEIAAAAggAAAE8AAACIAAABAAAAAI8AAABLAAAAXgAAANwAAACeAAAAVQAAAEwAAACxAAAAYgAAAVIAAACvAAAAeQAAAGUAAAG9AAAA+wAAAH8AAACWAAABBgAAATQAAACrAAAA1gAAAdEAAADRAAAAyQAAAcMAAACrAAABUwAAAVoAAADAAAAAlgAAANoAAAD6AAABgAAAAJ4AAACUAAABAgAAAbEAAAEhAAAAiwAAAI4AAAF4AAAAnQAAAGkAAADjAAAA4QAAAIgAAACDAAAA0wAAAVgAAAC3AAAAZAAAAGgAAAFkAAAA8QAAAHIAAAB8AAABUQAAANoAAABjAAAAaQAAANYAAADNAAAAYQAAAGgAAADQAAABUgAAAMgAAACIAAABfgAAAJ8AAAGLAAAAzgAAAX8AAADrAAAAowAAAKMAAAH4AAABDgAAAL4AAAFqAAAAuAAAAR4AAADIAAABIQAAAaUAAADUAAAAhgAAAasAAADWAAAAiQAAAZQAAADCAAAAfwAAALUAAADUAAAAzQAAAK0AAABmAAAAuQAAAYsAAADGAAAAbAAAAHcAAAEoAAAAoAAAAIUAAADsAAAAbQAAABRzdGNvAAAAAAAAAAEAAAAwAAAAYnVkdGEAAABabWV0YQAAAAAAAAAhaGRscgAAAAAAAAAAbWRpcmFwcGwAAAAAAAAAAAAAAAAtaWxzdAAAACWpdG9vAAAAHWRhdGEAAAABAAAAAExhdmY1OC43Ni4xMDA=\" type=\"video/mp4\"></video>"
            ]
          },
          "metadata": {},
          "execution_count": 8
        }
      ]
    },
    {
      "cell_type": "code",
      "source": [
        "!pip install 'ray[rllib]==2.0.0'"
      ],
      "metadata": {
        "colab": {
          "base_uri": "https://localhost:8080/",
          "height": 1000
        },
        "id": "FIHeH7J1AcZy",
        "outputId": "eed2c011-b983-4551-a0a9-f5e632442add"
      },
      "execution_count": 9,
      "outputs": [
        {
          "output_type": "stream",
          "name": "stdout",
          "text": [
            "Collecting ray[rllib]==2.0.0\n",
            "  Downloading ray-2.0.0-cp310-cp310-manylinux2014_x86_64.whl (59.1 MB)\n",
            "\u001b[2K     \u001b[90m━━━━━━━━━━━━━━━━━━━━━━━━━━━━━━━━━━━━━━━━\u001b[0m \u001b[32m59.1/59.1 MB\u001b[0m \u001b[31m12.4 MB/s\u001b[0m eta \u001b[36m0:00:00\u001b[0m\n",
            "\u001b[?25hRequirement already satisfied: attrs in /usr/local/lib/python3.10/dist-packages (from ray[rllib]==2.0.0) (23.1.0)\n",
            "Collecting click<=8.0.4,>=7.0 (from ray[rllib]==2.0.0)\n",
            "  Downloading click-8.0.4-py3-none-any.whl (97 kB)\n",
            "\u001b[2K     \u001b[90m━━━━━━━━━━━━━━━━━━━━━━━━━━━━━━━━━━━━━━━━\u001b[0m \u001b[32m97.5/97.5 kB\u001b[0m \u001b[31m7.1 MB/s\u001b[0m eta \u001b[36m0:00:00\u001b[0m\n",
            "\u001b[?25hRequirement already satisfied: filelock in /usr/local/lib/python3.10/dist-packages (from ray[rllib]==2.0.0) (3.13.1)\n",
            "Requirement already satisfied: jsonschema in /usr/local/lib/python3.10/dist-packages (from ray[rllib]==2.0.0) (4.19.2)\n",
            "Requirement already satisfied: msgpack<2.0.0,>=1.0.0 in /usr/local/lib/python3.10/dist-packages (from ray[rllib]==2.0.0) (1.0.7)\n",
            "Requirement already satisfied: protobuf<4.0.0,>=3.15.3 in /usr/local/lib/python3.10/dist-packages (from ray[rllib]==2.0.0) (3.20.3)\n",
            "Requirement already satisfied: pyyaml in /usr/local/lib/python3.10/dist-packages (from ray[rllib]==2.0.0) (6.0.1)\n",
            "Requirement already satisfied: aiosignal in /usr/local/lib/python3.10/dist-packages (from ray[rllib]==2.0.0) (1.3.1)\n",
            "Requirement already satisfied: frozenlist in /usr/local/lib/python3.10/dist-packages (from ray[rllib]==2.0.0) (1.4.0)\n",
            "Requirement already satisfied: requests in /usr/local/lib/python3.10/dist-packages (from ray[rllib]==2.0.0) (2.31.0)\n",
            "Collecting virtualenv (from ray[rllib]==2.0.0)\n",
            "  Downloading virtualenv-20.24.6-py3-none-any.whl (3.8 MB)\n",
            "\u001b[2K     \u001b[90m━━━━━━━━━━━━━━━━━━━━━━━━━━━━━━━━━━━━━━━━\u001b[0m \u001b[32m3.8/3.8 MB\u001b[0m \u001b[31m39.8 MB/s\u001b[0m eta \u001b[36m0:00:00\u001b[0m\n",
            "\u001b[?25hCollecting grpcio<=1.43.0,>=1.42.0 (from ray[rllib]==2.0.0)\n",
            "  Downloading grpcio-1.43.0-cp310-cp310-manylinux_2_17_x86_64.manylinux2014_x86_64.whl (4.1 MB)\n",
            "\u001b[2K     \u001b[90m━━━━━━━━━━━━━━━━━━━━━━━━━━━━━━━━━━━━━━━━\u001b[0m \u001b[32m4.1/4.1 MB\u001b[0m \u001b[31m115.0 MB/s\u001b[0m eta \u001b[36m0:00:00\u001b[0m\n",
            "\u001b[?25hRequirement already satisfied: numpy>=1.19.3 in /usr/local/lib/python3.10/dist-packages (from ray[rllib]==2.0.0) (1.23.5)\n",
            "Requirement already satisfied: pandas in /usr/local/lib/python3.10/dist-packages (from ray[rllib]==2.0.0) (1.5.3)\n",
            "Requirement already satisfied: tabulate in /usr/local/lib/python3.10/dist-packages (from ray[rllib]==2.0.0) (0.9.0)\n",
            "Collecting tensorboardX>=1.9 (from ray[rllib]==2.0.0)\n",
            "  Downloading tensorboardX-2.6.2.2-py2.py3-none-any.whl (101 kB)\n",
            "\u001b[2K     \u001b[90m━━━━━━━━━━━━━━━━━━━━━━━━━━━━━━━━━━━━━━━━\u001b[0m \u001b[32m101.7/101.7 kB\u001b[0m \u001b[31m16.2 MB/s\u001b[0m eta \u001b[36m0:00:00\u001b[0m\n",
            "\u001b[?25hRequirement already satisfied: dm-tree in /usr/local/lib/python3.10/dist-packages (from ray[rllib]==2.0.0) (0.1.8)\n",
            "Collecting gym<0.24.0,>=0.21.0 (from ray[rllib]==2.0.0)\n",
            "  Downloading gym-0.23.1.tar.gz (626 kB)\n",
            "\u001b[2K     \u001b[90m━━━━━━━━━━━━━━━━━━━━━━━━━━━━━━━━━━━━━━━━\u001b[0m \u001b[32m626.2/626.2 kB\u001b[0m \u001b[31m67.1 MB/s\u001b[0m eta \u001b[36m0:00:00\u001b[0m\n",
            "\u001b[?25h  Installing build dependencies ... \u001b[?25l\u001b[?25hdone\n",
            "  Getting requirements to build wheel ... \u001b[?25l\u001b[?25hdone\n",
            "  Preparing metadata (pyproject.toml) ... \u001b[?25l\u001b[?25hdone\n",
            "Collecting lz4 (from ray[rllib]==2.0.0)\n",
            "  Downloading lz4-4.3.2-cp310-cp310-manylinux_2_17_x86_64.manylinux2014_x86_64.whl (1.3 MB)\n",
            "\u001b[2K     \u001b[90m━━━━━━━━━━━━━━━━━━━━━━━━━━━━━━━━━━━━━━━━\u001b[0m \u001b[32m1.3/1.3 MB\u001b[0m \u001b[31m94.6 MB/s\u001b[0m eta \u001b[36m0:00:00\u001b[0m\n",
            "\u001b[?25hRequirement already satisfied: matplotlib!=3.4.3 in /usr/local/lib/python3.10/dist-packages (from ray[rllib]==2.0.0) (3.7.1)\n",
            "Requirement already satisfied: scikit-image in /usr/local/lib/python3.10/dist-packages (from ray[rllib]==2.0.0) (0.19.3)\n",
            "Requirement already satisfied: scipy in /usr/local/lib/python3.10/dist-packages (from ray[rllib]==2.0.0) (1.11.3)\n",
            "Requirement already satisfied: six>=1.5.2 in /usr/local/lib/python3.10/dist-packages (from grpcio<=1.43.0,>=1.42.0->ray[rllib]==2.0.0) (1.16.0)\n",
            "Requirement already satisfied: cloudpickle>=1.2.0 in /usr/local/lib/python3.10/dist-packages (from gym<0.24.0,>=0.21.0->ray[rllib]==2.0.0) (2.2.1)\n",
            "Requirement already satisfied: gym-notices>=0.0.4 in /usr/local/lib/python3.10/dist-packages (from gym<0.24.0,>=0.21.0->ray[rllib]==2.0.0) (0.0.8)\n",
            "Requirement already satisfied: contourpy>=1.0.1 in /usr/local/lib/python3.10/dist-packages (from matplotlib!=3.4.3->ray[rllib]==2.0.0) (1.2.0)\n",
            "Requirement already satisfied: cycler>=0.10 in /usr/local/lib/python3.10/dist-packages (from matplotlib!=3.4.3->ray[rllib]==2.0.0) (0.12.1)\n",
            "Requirement already satisfied: fonttools>=4.22.0 in /usr/local/lib/python3.10/dist-packages (from matplotlib!=3.4.3->ray[rllib]==2.0.0) (4.44.0)\n",
            "Requirement already satisfied: kiwisolver>=1.0.1 in /usr/local/lib/python3.10/dist-packages (from matplotlib!=3.4.3->ray[rllib]==2.0.0) (1.4.5)\n",
            "Requirement already satisfied: packaging>=20.0 in /usr/local/lib/python3.10/dist-packages (from matplotlib!=3.4.3->ray[rllib]==2.0.0) (23.2)\n",
            "Requirement already satisfied: pillow>=6.2.0 in /usr/local/lib/python3.10/dist-packages (from matplotlib!=3.4.3->ray[rllib]==2.0.0) (9.4.0)\n",
            "Requirement already satisfied: pyparsing>=2.3.1 in /usr/local/lib/python3.10/dist-packages (from matplotlib!=3.4.3->ray[rllib]==2.0.0) (3.1.1)\n",
            "Requirement already satisfied: python-dateutil>=2.7 in /usr/local/lib/python3.10/dist-packages (from matplotlib!=3.4.3->ray[rllib]==2.0.0) (2.8.2)\n",
            "Requirement already satisfied: jsonschema-specifications>=2023.03.6 in /usr/local/lib/python3.10/dist-packages (from jsonschema->ray[rllib]==2.0.0) (2023.7.1)\n",
            "Requirement already satisfied: referencing>=0.28.4 in /usr/local/lib/python3.10/dist-packages (from jsonschema->ray[rllib]==2.0.0) (0.30.2)\n",
            "Requirement already satisfied: rpds-py>=0.7.1 in /usr/local/lib/python3.10/dist-packages (from jsonschema->ray[rllib]==2.0.0) (0.12.0)\n",
            "Requirement already satisfied: pytz>=2020.1 in /usr/local/lib/python3.10/dist-packages (from pandas->ray[rllib]==2.0.0) (2023.3.post1)\n",
            "Requirement already satisfied: charset-normalizer<4,>=2 in /usr/local/lib/python3.10/dist-packages (from requests->ray[rllib]==2.0.0) (3.3.2)\n",
            "Requirement already satisfied: idna<4,>=2.5 in /usr/local/lib/python3.10/dist-packages (from requests->ray[rllib]==2.0.0) (3.4)\n",
            "Requirement already satisfied: urllib3<3,>=1.21.1 in /usr/local/lib/python3.10/dist-packages (from requests->ray[rllib]==2.0.0) (2.0.7)\n",
            "Requirement already satisfied: certifi>=2017.4.17 in /usr/local/lib/python3.10/dist-packages (from requests->ray[rllib]==2.0.0) (2023.7.22)\n",
            "Requirement already satisfied: networkx>=2.2 in /usr/local/lib/python3.10/dist-packages (from scikit-image->ray[rllib]==2.0.0) (3.2.1)\n",
            "Requirement already satisfied: imageio>=2.4.1 in /usr/local/lib/python3.10/dist-packages (from scikit-image->ray[rllib]==2.0.0) (2.31.6)\n",
            "Requirement already satisfied: tifffile>=2019.7.26 in /usr/local/lib/python3.10/dist-packages (from scikit-image->ray[rllib]==2.0.0) (2023.9.26)\n",
            "Requirement already satisfied: PyWavelets>=1.1.1 in /usr/local/lib/python3.10/dist-packages (from scikit-image->ray[rllib]==2.0.0) (1.4.1)\n",
            "Collecting distlib<1,>=0.3.7 (from virtualenv->ray[rllib]==2.0.0)\n",
            "  Downloading distlib-0.3.7-py2.py3-none-any.whl (468 kB)\n",
            "\u001b[2K     \u001b[90m━━━━━━━━━━━━━━━━━━━━━━━━━━━━━━━━━━━━━━━━\u001b[0m \u001b[32m468.9/468.9 kB\u001b[0m \u001b[31m60.7 MB/s\u001b[0m eta \u001b[36m0:00:00\u001b[0m\n",
            "\u001b[?25hRequirement already satisfied: platformdirs<4,>=3.9.1 in /usr/local/lib/python3.10/dist-packages (from virtualenv->ray[rllib]==2.0.0) (3.11.0)\n",
            "Building wheels for collected packages: gym\n",
            "  Building wheel for gym (pyproject.toml) ... \u001b[?25l\u001b[?25hdone\n",
            "  Created wheel for gym: filename=gym-0.23.1-py3-none-any.whl size=701347 sha256=101302ed96bd401eb87df4bf8da39d6e4946565b401a9784bf41175a062a7a28\n",
            "  Stored in directory: /root/.cache/pip/wheels/1a/00/fb/fe5cf2860fb9b7bc860e28f00095a1f42c7b726dd6f42d1acc\n",
            "Successfully built gym\n",
            "Installing collected packages: distlib, virtualenv, tensorboardX, lz4, gym, grpcio, click, ray\n",
            "  Attempting uninstall: gym\n",
            "    Found existing installation: gym 0.25.2\n",
            "    Uninstalling gym-0.25.2:\n",
            "      Successfully uninstalled gym-0.25.2\n",
            "  Attempting uninstall: grpcio\n",
            "    Found existing installation: grpcio 1.59.2\n",
            "    Uninstalling grpcio-1.59.2:\n",
            "      Successfully uninstalled grpcio-1.59.2\n",
            "  Attempting uninstall: click\n",
            "    Found existing installation: click 8.1.7\n",
            "    Uninstalling click-8.1.7:\n",
            "      Successfully uninstalled click-8.1.7\n",
            "\u001b[31mERROR: pip's dependency resolver does not currently take into account all the packages that are installed. This behaviour is the source of the following dependency conflicts.\n",
            "lida 0.0.10 requires fastapi, which is not installed.\n",
            "lida 0.0.10 requires kaleido, which is not installed.\n",
            "lida 0.0.10 requires python-multipart, which is not installed.\n",
            "lida 0.0.10 requires uvicorn, which is not installed.\n",
            "google-cloud-bigquery 3.12.0 requires grpcio<2.0dev,>=1.47.0, but you have grpcio 1.43.0 which is incompatible.\n",
            "grpc-google-iam-v1 0.12.6 requires grpcio<2.0.0dev,>=1.44.0, but you have grpcio 1.43.0 which is incompatible.\n",
            "grpcio-status 1.48.2 requires grpcio>=1.48.2, but you have grpcio 1.43.0 which is incompatible.\n",
            "tensorboard 2.14.1 requires grpcio>=1.48.2, but you have grpcio 1.43.0 which is incompatible.\u001b[0m\u001b[31m\n",
            "\u001b[0mSuccessfully installed click-8.0.4 distlib-0.3.7 grpcio-1.43.0 gym-0.23.1 lz4-4.3.2 ray-2.0.0 tensorboardX-2.6.2.2 virtualenv-20.24.6\n"
          ]
        },
        {
          "output_type": "display_data",
          "data": {
            "application/vnd.colab-display-data+json": {
              "pip_warning": {
                "packages": [
                  "gym"
                ]
              }
            }
          },
          "metadata": {}
        }
      ]
    },
    {
      "cell_type": "code",
      "source": [
        "import ray\n",
        "from ray.rllib.agents.ppo import PPOTrainer\n",
        "\n",
        "# Initialize Ray\n",
        "ray.shutdown()\n",
        "ray.init(\n",
        "    num_cpus=3,\n",
        "    include_dashboard=False,\n",
        "    ignore_reinit_error=True,\n",
        "    log_to_driver=False,\n",
        ")\n",
        "\n",
        "config = {\n",
        "    \"env\": \"CartPole-v0\",\n",
        "    # Change the following line to `\"framework\": \"tf\"` to use TensorFlow\n",
        "    \"framework\": \"torch\",\n",
        "    \"model\": {\n",
        "        \"fcnet_hiddens\": [32],\n",
        "        \"fcnet_activation\": \"linear\"  # Removed the extra comma here\n",
        "    },\n",
        "}\n",
        "\n",
        "stop = {\"episode_reward_mean\": 195}\n",
        "\n",
        "# Execute training\n",
        "analysis = ray.tune.run(\n",
        "    \"PPO\",\n",
        "    config=config,\n",
        "    stop=stop,\n",
        "    checkpoint_at_end=True,\n",
        ")"
      ],
      "metadata": {
        "colab": {
          "base_uri": "https://localhost:8080/",
          "height": 436
        },
        "id": "7ZGH3qVAEzow",
        "outputId": "b85221d2-fede-4b06-ade0-eb1909395024"
      },
      "execution_count": null,
      "outputs": [
        {
          "output_type": "stream",
          "name": "stderr",
          "text": [
            "/usr/local/lib/python3.10/dist-packages/tensorflow/python/framework/dtypes.py:35: DeprecationWarning: ml_dtypes.float8_e4m3b11 is deprecated. Use ml_dtypes.float8_e4m3b11fnuz\n",
            "  from tensorflow.tsl.python.lib.core import pywrap_ml_dtypes\n",
            "/usr/local/lib/python3.10/dist-packages/flax/configurations.py:42: DeprecationWarning: jax.config.define_bool_state is deprecated. Please use other libraries for configuration instead.\n",
            "  return jax_config.define_bool_state('flax_' + name, default, help)\n",
            "/usr/local/lib/python3.10/dist-packages/tensorflow_probability/python/__init__.py:57: DeprecationWarning: distutils Version classes are deprecated. Use packaging.version instead.\n",
            "  if (distutils.version.LooseVersion(tf.__version__) <\n",
            "/usr/local/lib/python3.10/dist-packages/google/rpc/__init__.py:20: DeprecationWarning: Deprecated call to `pkg_resources.declare_namespace('google.rpc')`.\n",
            "Implementing implicit namespace packages (as specified in PEP 420) is preferred to `pkg_resources.declare_namespace`. See https://setuptools.pypa.io/en/latest/references/keywords.html#keyword-namespace-packages\n",
            "  pkg_resources.declare_namespace(__name__)\n",
            "/usr/local/lib/python3.10/dist-packages/pkg_resources/__init__.py:2349: DeprecationWarning: Deprecated call to `pkg_resources.declare_namespace('google')`.\n",
            "Implementing implicit namespace packages (as specified in PEP 420) is preferred to `pkg_resources.declare_namespace`. See https://setuptools.pypa.io/en/latest/references/keywords.html#keyword-namespace-packages\n",
            "  declare_namespace(parent)\n",
            "2023-11-15 23:29:06,218\tINFO worker.py:1518 -- Started a local Ray instance.\n"
          ]
        },
        {
          "output_type": "display_data",
          "data": {
            "text/plain": [
              "<IPython.core.display.HTML object>"
            ],
            "text/html": []
          },
          "metadata": {}
        },
        {
          "output_type": "stream",
          "name": "stderr",
          "text": [
            "/usr/local/lib/python3.10/dist-packages/ray/util/placement_group.py:80: DeprecationWarning: placement_group parameter is deprecated. Use scheduling_strategy=PlacementGroupSchedulingStrategy(...) instead, see the usage at https://docs.ray.io/en/releases-2.0.0/ray-core/package-ref.html#ray-remote.\n",
            "  ).remote(self)\n",
            "/usr/local/lib/python3.10/dist-packages/ray/_private/ray_option_utils.py:266: DeprecationWarning: Setting 'object_store_memory' for actors is deprecated since it doesn't actually reserve the required object store memory. Use object spilling that's enabled by default (https://docs.ray.io/en/releases-2.0.0/ray-core/objects/object-spilling.html) instead to bypass the object store memory size limitation.\n",
            "  warnings.warn(\n",
            "/usr/local/lib/python3.10/dist-packages/ray/actor.py:637: DeprecationWarning: placement_group parameter is deprecated. Use scheduling_strategy=PlacementGroupSchedulingStrategy(...) instead, see the usage at https://docs.ray.io/en/releases-2.0.0/ray-core/package-ref.html#ray-remote.\n",
            "  return actor_cls._remote(args=args, kwargs=kwargs, **updated_options)\n",
            "/usr/local/lib/python3.10/dist-packages/ray/actor.py:637: DeprecationWarning: placement_group_bundle_index parameter is deprecated. Use scheduling_strategy=PlacementGroupSchedulingStrategy(...) instead, see the usage at https://docs.ray.io/en/releases-2.0.0/ray-core/package-ref.html#ray-remote.\n",
            "  return actor_cls._remote(args=args, kwargs=kwargs, **updated_options)\n",
            "/usr/local/lib/python3.10/dist-packages/ray/actor.py:637: DeprecationWarning: placement_group_capture_child_tasks parameter is deprecated. Use scheduling_strategy=PlacementGroupSchedulingStrategy(...) instead, see the usage at https://docs.ray.io/en/releases-2.0.0/ray-core/package-ref.html#ray-remote.\n",
            "  return actor_cls._remote(args=args, kwargs=kwargs, **updated_options)\n"
          ]
        }
      ]
    },
    {
      "cell_type": "code",
      "source": [
        "trial = analysis.get_best_logdir(\"episode_reward_mean\", \"max\")\n",
        "checkpoint = analysis.get_best_checkpoint(\n",
        "    trial,\n",
        "    \"training_iteration\",\n",
        "    \"max\",\n",
        ")\n",
        "trainer = PPOTrainer(config=config)\n",
        "trainer.restore(checkpoint)"
      ],
      "metadata": {
        "id": "lF6ixZmsFu8z"
      },
      "execution_count": null,
      "outputs": []
    },
    {
      "cell_type": "code",
      "source": [
        "env = gym.make('CartPole-v1')\n",
        "after_training = \"after_training.mp4\"\n",
        "after_video = VideoRecorder(env, after_training)\n",
        "observation = env.reset()\n",
        "done = False\n",
        "while not done:\n",
        "  env.render()\n",
        "  after_video.capture_frame()\n",
        "  action = trainer.compute_action(observation)\n",
        "  observation, reward, done, info = env.step(action)\n",
        "after_video.close()\n",
        "env.close()\n",
        "html = render_mp4(after_training)\n",
        "HTML(html)"
      ],
      "metadata": {
        "id": "g-qWu8gLJnOD"
      },
      "execution_count": null,
      "outputs": []
    },
    {
      "cell_type": "code",
      "source": [],
      "metadata": {
        "id": "dyZmuRIUKFX8"
      },
      "execution_count": null,
      "outputs": []
    }
  ]
}